{
  "nbformat": 4,
  "nbformat_minor": 0,
  "metadata": {
    "colab": {
      "name": "finalProject.ipynb",
      "provenance": [],
      "collapsed_sections": [],
      "include_colab_link": true
    },
    "kernelspec": {
      "name": "python3",
      "display_name": "Python 3"
    },
    "language_info": {
      "name": "python"
    }
  },
  "cells": [
    {
      "cell_type": "markdown",
      "metadata": {
        "id": "view-in-github",
        "colab_type": "text"
      },
      "source": [
        "<a href=\"https://colab.research.google.com/github/tracynguyen17/FinalProject/blob/main/finalProject.ipynb\" target=\"_parent\"><img src=\"https://colab.research.google.com/assets/colab-badge.svg\" alt=\"Open In Colab\"/></a>"
      ]
    },
    {
      "cell_type": "code",
      "execution_count": 1,
      "metadata": {
        "id": "DaFr0YFfTYjQ"
      },
      "outputs": [],
      "source": [
        "import pandas as pd\n",
        "import numpy as np\n",
        "import matplotlib.pyplot as plt\n",
        "import seaborn as sns"
      ]
    },
    {
      "cell_type": "code",
      "source": [
        "from google.colab import drive\n",
        "drive.mount('/content/drive', force_remount=True)\n",
        "\n",
        "import glob\n",
        "import os\n",
        "\n",
        "dir = '/content/drive/My Drive/ITCS 3162 Final Project'\n",
        "\n",
        "path = os.path.join(dir, 'Cleaned_Laptop_data.csv')\n",
        "\n",
        "df = pd.read_csv(path)"
      ],
      "metadata": {
        "id": "EjoIhFdf8Ke7",
        "outputId": "9554d964-2058-4f28-fa80-2eb3e3130e59",
        "colab": {
          "base_uri": "https://localhost:8080/"
        }
      },
      "execution_count": 2,
      "outputs": [
        {
          "output_type": "stream",
          "name": "stdout",
          "text": [
            "Mounted at /content/drive\n"
          ]
        }
      ]
    },
    {
      "cell_type": "code",
      "source": [
        "df.shape"
      ],
      "metadata": {
        "colab": {
          "base_uri": "https://localhost:8080/"
        },
        "id": "FPcyoOwJeJYt",
        "outputId": "55767401-5c82-4ef7-9db9-49bc6969629a"
      },
      "execution_count": 3,
      "outputs": [
        {
          "output_type": "execute_result",
          "data": {
            "text/plain": [
              "(896, 23)"
            ]
          },
          "metadata": {},
          "execution_count": 3
        }
      ]
    },
    {
      "cell_type": "code",
      "source": [
        "df.dtypes.value_counts()"
      ],
      "metadata": {
        "colab": {
          "base_uri": "https://localhost:8080/"
        },
        "id": "X2fdbU5PSiZV",
        "outputId": "52801e09-e82e-4c2a-97aa-62dfab42cd50"
      },
      "execution_count": 4,
      "outputs": [
        {
          "output_type": "execute_result",
          "data": {
            "text/plain": [
              "object     15\n",
              "int64       7\n",
              "float64     1\n",
              "dtype: int64"
            ]
          },
          "metadata": {},
          "execution_count": 4
        }
      ]
    },
    {
      "cell_type": "code",
      "source": [
        "df.head()"
      ],
      "metadata": {
        "id": "SyRI8RkFA897",
        "colab": {
          "base_uri": "https://localhost:8080/",
          "height": 386
        },
        "outputId": "05e78c71-f4c1-470f-e886-c9345eda8339"
      },
      "execution_count": 5,
      "outputs": [
        {
          "output_type": "execute_result",
          "data": {
            "text/plain": [
              "    brand    model processor_brand     processor_name processor_gnrtn  \\\n",
              "0  Lenovo  A6-9225             AMD  A6-9225 Processor            10th   \n",
              "1  Lenovo  Ideapad             AMD           APU Dual            10th   \n",
              "2   Avita     PURA             AMD           APU Dual            10th   \n",
              "3   Avita     PURA             AMD           APU Dual            10th   \n",
              "4   Avita     PURA             AMD           APU Dual            10th   \n",
              "\n",
              "    ram_gb ram_type     ssd      hdd       os  ... display_size  warranty  \\\n",
              "0  4 GB GB     DDR4    0 GB  1024 GB  Windows  ...      Missing         0   \n",
              "1  4 GB GB     DDR4    0 GB   512 GB  Windows  ...      Missing         0   \n",
              "2  4 GB GB     DDR4  128 GB     0 GB  Windows  ...      Missing         0   \n",
              "3  4 GB GB     DDR4  128 GB     0 GB  Windows  ...      Missing         0   \n",
              "4  4 GB GB     DDR4  256 GB     0 GB  Windows  ...      Missing         0   \n",
              "\n",
              "  Touchscreen msoffice  latest_price old_price discount  star_rating  ratings  \\\n",
              "0          No       No         24990     32790       23          3.7       63   \n",
              "1          No       No         19590     21325        8          3.6     1894   \n",
              "2          No       No         19990     27990       28          3.7     1153   \n",
              "3          No       No         21490     27990       23          3.7     1153   \n",
              "4          No       No         24990     33490       25          3.7     1657   \n",
              "\n",
              "   reviews  \n",
              "0       12  \n",
              "1      256  \n",
              "2      159  \n",
              "3      159  \n",
              "4      234  \n",
              "\n",
              "[5 rows x 23 columns]"
            ],
            "text/html": [
              "\n",
              "  <div id=\"df-d1a738bc-f3d7-4e3d-a718-d3f22dda7f8c\">\n",
              "    <div class=\"colab-df-container\">\n",
              "      <div>\n",
              "<style scoped>\n",
              "    .dataframe tbody tr th:only-of-type {\n",
              "        vertical-align: middle;\n",
              "    }\n",
              "\n",
              "    .dataframe tbody tr th {\n",
              "        vertical-align: top;\n",
              "    }\n",
              "\n",
              "    .dataframe thead th {\n",
              "        text-align: right;\n",
              "    }\n",
              "</style>\n",
              "<table border=\"1\" class=\"dataframe\">\n",
              "  <thead>\n",
              "    <tr style=\"text-align: right;\">\n",
              "      <th></th>\n",
              "      <th>brand</th>\n",
              "      <th>model</th>\n",
              "      <th>processor_brand</th>\n",
              "      <th>processor_name</th>\n",
              "      <th>processor_gnrtn</th>\n",
              "      <th>ram_gb</th>\n",
              "      <th>ram_type</th>\n",
              "      <th>ssd</th>\n",
              "      <th>hdd</th>\n",
              "      <th>os</th>\n",
              "      <th>...</th>\n",
              "      <th>display_size</th>\n",
              "      <th>warranty</th>\n",
              "      <th>Touchscreen</th>\n",
              "      <th>msoffice</th>\n",
              "      <th>latest_price</th>\n",
              "      <th>old_price</th>\n",
              "      <th>discount</th>\n",
              "      <th>star_rating</th>\n",
              "      <th>ratings</th>\n",
              "      <th>reviews</th>\n",
              "    </tr>\n",
              "  </thead>\n",
              "  <tbody>\n",
              "    <tr>\n",
              "      <th>0</th>\n",
              "      <td>Lenovo</td>\n",
              "      <td>A6-9225</td>\n",
              "      <td>AMD</td>\n",
              "      <td>A6-9225 Processor</td>\n",
              "      <td>10th</td>\n",
              "      <td>4 GB GB</td>\n",
              "      <td>DDR4</td>\n",
              "      <td>0 GB</td>\n",
              "      <td>1024 GB</td>\n",
              "      <td>Windows</td>\n",
              "      <td>...</td>\n",
              "      <td>Missing</td>\n",
              "      <td>0</td>\n",
              "      <td>No</td>\n",
              "      <td>No</td>\n",
              "      <td>24990</td>\n",
              "      <td>32790</td>\n",
              "      <td>23</td>\n",
              "      <td>3.7</td>\n",
              "      <td>63</td>\n",
              "      <td>12</td>\n",
              "    </tr>\n",
              "    <tr>\n",
              "      <th>1</th>\n",
              "      <td>Lenovo</td>\n",
              "      <td>Ideapad</td>\n",
              "      <td>AMD</td>\n",
              "      <td>APU Dual</td>\n",
              "      <td>10th</td>\n",
              "      <td>4 GB GB</td>\n",
              "      <td>DDR4</td>\n",
              "      <td>0 GB</td>\n",
              "      <td>512 GB</td>\n",
              "      <td>Windows</td>\n",
              "      <td>...</td>\n",
              "      <td>Missing</td>\n",
              "      <td>0</td>\n",
              "      <td>No</td>\n",
              "      <td>No</td>\n",
              "      <td>19590</td>\n",
              "      <td>21325</td>\n",
              "      <td>8</td>\n",
              "      <td>3.6</td>\n",
              "      <td>1894</td>\n",
              "      <td>256</td>\n",
              "    </tr>\n",
              "    <tr>\n",
              "      <th>2</th>\n",
              "      <td>Avita</td>\n",
              "      <td>PURA</td>\n",
              "      <td>AMD</td>\n",
              "      <td>APU Dual</td>\n",
              "      <td>10th</td>\n",
              "      <td>4 GB GB</td>\n",
              "      <td>DDR4</td>\n",
              "      <td>128 GB</td>\n",
              "      <td>0 GB</td>\n",
              "      <td>Windows</td>\n",
              "      <td>...</td>\n",
              "      <td>Missing</td>\n",
              "      <td>0</td>\n",
              "      <td>No</td>\n",
              "      <td>No</td>\n",
              "      <td>19990</td>\n",
              "      <td>27990</td>\n",
              "      <td>28</td>\n",
              "      <td>3.7</td>\n",
              "      <td>1153</td>\n",
              "      <td>159</td>\n",
              "    </tr>\n",
              "    <tr>\n",
              "      <th>3</th>\n",
              "      <td>Avita</td>\n",
              "      <td>PURA</td>\n",
              "      <td>AMD</td>\n",
              "      <td>APU Dual</td>\n",
              "      <td>10th</td>\n",
              "      <td>4 GB GB</td>\n",
              "      <td>DDR4</td>\n",
              "      <td>128 GB</td>\n",
              "      <td>0 GB</td>\n",
              "      <td>Windows</td>\n",
              "      <td>...</td>\n",
              "      <td>Missing</td>\n",
              "      <td>0</td>\n",
              "      <td>No</td>\n",
              "      <td>No</td>\n",
              "      <td>21490</td>\n",
              "      <td>27990</td>\n",
              "      <td>23</td>\n",
              "      <td>3.7</td>\n",
              "      <td>1153</td>\n",
              "      <td>159</td>\n",
              "    </tr>\n",
              "    <tr>\n",
              "      <th>4</th>\n",
              "      <td>Avita</td>\n",
              "      <td>PURA</td>\n",
              "      <td>AMD</td>\n",
              "      <td>APU Dual</td>\n",
              "      <td>10th</td>\n",
              "      <td>4 GB GB</td>\n",
              "      <td>DDR4</td>\n",
              "      <td>256 GB</td>\n",
              "      <td>0 GB</td>\n",
              "      <td>Windows</td>\n",
              "      <td>...</td>\n",
              "      <td>Missing</td>\n",
              "      <td>0</td>\n",
              "      <td>No</td>\n",
              "      <td>No</td>\n",
              "      <td>24990</td>\n",
              "      <td>33490</td>\n",
              "      <td>25</td>\n",
              "      <td>3.7</td>\n",
              "      <td>1657</td>\n",
              "      <td>234</td>\n",
              "    </tr>\n",
              "  </tbody>\n",
              "</table>\n",
              "<p>5 rows × 23 columns</p>\n",
              "</div>\n",
              "      <button class=\"colab-df-convert\" onclick=\"convertToInteractive('df-d1a738bc-f3d7-4e3d-a718-d3f22dda7f8c')\"\n",
              "              title=\"Convert this dataframe to an interactive table.\"\n",
              "              style=\"display:none;\">\n",
              "        \n",
              "  <svg xmlns=\"http://www.w3.org/2000/svg\" height=\"24px\"viewBox=\"0 0 24 24\"\n",
              "       width=\"24px\">\n",
              "    <path d=\"M0 0h24v24H0V0z\" fill=\"none\"/>\n",
              "    <path d=\"M18.56 5.44l.94 2.06.94-2.06 2.06-.94-2.06-.94-.94-2.06-.94 2.06-2.06.94zm-11 1L8.5 8.5l.94-2.06 2.06-.94-2.06-.94L8.5 2.5l-.94 2.06-2.06.94zm10 10l.94 2.06.94-2.06 2.06-.94-2.06-.94-.94-2.06-.94 2.06-2.06.94z\"/><path d=\"M17.41 7.96l-1.37-1.37c-.4-.4-.92-.59-1.43-.59-.52 0-1.04.2-1.43.59L10.3 9.45l-7.72 7.72c-.78.78-.78 2.05 0 2.83L4 21.41c.39.39.9.59 1.41.59.51 0 1.02-.2 1.41-.59l7.78-7.78 2.81-2.81c.8-.78.8-2.07 0-2.86zM5.41 20L4 18.59l7.72-7.72 1.47 1.35L5.41 20z\"/>\n",
              "  </svg>\n",
              "      </button>\n",
              "      \n",
              "  <style>\n",
              "    .colab-df-container {\n",
              "      display:flex;\n",
              "      flex-wrap:wrap;\n",
              "      gap: 12px;\n",
              "    }\n",
              "\n",
              "    .colab-df-convert {\n",
              "      background-color: #E8F0FE;\n",
              "      border: none;\n",
              "      border-radius: 50%;\n",
              "      cursor: pointer;\n",
              "      display: none;\n",
              "      fill: #1967D2;\n",
              "      height: 32px;\n",
              "      padding: 0 0 0 0;\n",
              "      width: 32px;\n",
              "    }\n",
              "\n",
              "    .colab-df-convert:hover {\n",
              "      background-color: #E2EBFA;\n",
              "      box-shadow: 0px 1px 2px rgba(60, 64, 67, 0.3), 0px 1px 3px 1px rgba(60, 64, 67, 0.15);\n",
              "      fill: #174EA6;\n",
              "    }\n",
              "\n",
              "    [theme=dark] .colab-df-convert {\n",
              "      background-color: #3B4455;\n",
              "      fill: #D2E3FC;\n",
              "    }\n",
              "\n",
              "    [theme=dark] .colab-df-convert:hover {\n",
              "      background-color: #434B5C;\n",
              "      box-shadow: 0px 1px 3px 1px rgba(0, 0, 0, 0.15);\n",
              "      filter: drop-shadow(0px 1px 2px rgba(0, 0, 0, 0.3));\n",
              "      fill: #FFFFFF;\n",
              "    }\n",
              "  </style>\n",
              "\n",
              "      <script>\n",
              "        const buttonEl =\n",
              "          document.querySelector('#df-d1a738bc-f3d7-4e3d-a718-d3f22dda7f8c button.colab-df-convert');\n",
              "        buttonEl.style.display =\n",
              "          google.colab.kernel.accessAllowed ? 'block' : 'none';\n",
              "\n",
              "        async function convertToInteractive(key) {\n",
              "          const element = document.querySelector('#df-d1a738bc-f3d7-4e3d-a718-d3f22dda7f8c');\n",
              "          const dataTable =\n",
              "            await google.colab.kernel.invokeFunction('convertToInteractive',\n",
              "                                                     [key], {});\n",
              "          if (!dataTable) return;\n",
              "\n",
              "          const docLinkHtml = 'Like what you see? Visit the ' +\n",
              "            '<a target=\"_blank\" href=https://colab.research.google.com/notebooks/data_table.ipynb>data table notebook</a>'\n",
              "            + ' to learn more about interactive tables.';\n",
              "          element.innerHTML = '';\n",
              "          dataTable['output_type'] = 'display_data';\n",
              "          await google.colab.output.renderOutput(dataTable, element);\n",
              "          const docLink = document.createElement('div');\n",
              "          docLink.innerHTML = docLinkHtml;\n",
              "          element.appendChild(docLink);\n",
              "        }\n",
              "      </script>\n",
              "    </div>\n",
              "  </div>\n",
              "  "
            ]
          },
          "metadata": {},
          "execution_count": 5
        }
      ]
    },
    {
      "cell_type": "code",
      "source": [
        "df.info()"
      ],
      "metadata": {
        "id": "8TKXZONLBe6G",
        "colab": {
          "base_uri": "https://localhost:8080/"
        },
        "outputId": "d60a9de9-1475-4e8a-886b-4da49395b268"
      },
      "execution_count": 6,
      "outputs": [
        {
          "output_type": "stream",
          "name": "stdout",
          "text": [
            "<class 'pandas.core.frame.DataFrame'>\n",
            "RangeIndex: 896 entries, 0 to 895\n",
            "Data columns (total 23 columns):\n",
            " #   Column           Non-Null Count  Dtype  \n",
            "---  ------           --------------  -----  \n",
            " 0   brand            896 non-null    object \n",
            " 1   model            896 non-null    object \n",
            " 2   processor_brand  896 non-null    object \n",
            " 3   processor_name   896 non-null    object \n",
            " 4   processor_gnrtn  896 non-null    object \n",
            " 5   ram_gb           896 non-null    object \n",
            " 6   ram_type         896 non-null    object \n",
            " 7   ssd              896 non-null    object \n",
            " 8   hdd              896 non-null    object \n",
            " 9   os               896 non-null    object \n",
            " 10  os_bit           896 non-null    object \n",
            " 11  graphic_card_gb  896 non-null    int64  \n",
            " 12  weight           896 non-null    object \n",
            " 13  display_size     896 non-null    object \n",
            " 14  warranty         896 non-null    int64  \n",
            " 15  Touchscreen      896 non-null    object \n",
            " 16  msoffice         896 non-null    object \n",
            " 17  latest_price     896 non-null    int64  \n",
            " 18  old_price        896 non-null    int64  \n",
            " 19  discount         896 non-null    int64  \n",
            " 20  star_rating      896 non-null    float64\n",
            " 21  ratings          896 non-null    int64  \n",
            " 22  reviews          896 non-null    int64  \n",
            "dtypes: float64(1), int64(7), object(15)\n",
            "memory usage: 161.1+ KB\n"
          ]
        }
      ]
    },
    {
      "cell_type": "code",
      "source": [
        "df.isnull().sum()"
      ],
      "metadata": {
        "id": "QONceiDXBzY4",
        "colab": {
          "base_uri": "https://localhost:8080/"
        },
        "outputId": "355c4e7b-26d8-45c1-b05e-de8f569db3ae"
      },
      "execution_count": 7,
      "outputs": [
        {
          "output_type": "execute_result",
          "data": {
            "text/plain": [
              "brand              0\n",
              "model              0\n",
              "processor_brand    0\n",
              "processor_name     0\n",
              "processor_gnrtn    0\n",
              "ram_gb             0\n",
              "ram_type           0\n",
              "ssd                0\n",
              "hdd                0\n",
              "os                 0\n",
              "os_bit             0\n",
              "graphic_card_gb    0\n",
              "weight             0\n",
              "display_size       0\n",
              "warranty           0\n",
              "Touchscreen        0\n",
              "msoffice           0\n",
              "latest_price       0\n",
              "old_price          0\n",
              "discount           0\n",
              "star_rating        0\n",
              "ratings            0\n",
              "reviews            0\n",
              "dtype: int64"
            ]
          },
          "metadata": {},
          "execution_count": 7
        }
      ]
    },
    {
      "cell_type": "code",
      "source": [
        "df.columns[df.isin(['Missing']).any()]"
      ],
      "metadata": {
        "colab": {
          "base_uri": "https://localhost:8080/"
        },
        "id": "FVSTbf4OdVrK",
        "outputId": "6e4797cd-021f-4392-bdcf-7a488caf01ea"
      },
      "execution_count": 8,
      "outputs": [
        {
          "output_type": "execute_result",
          "data": {
            "text/plain": [
              "Index(['model', 'processor_gnrtn', 'display_size'], dtype='object')"
            ]
          },
          "metadata": {},
          "execution_count": 8
        }
      ]
    },
    {
      "cell_type": "code",
      "source": [
        "df['model'].value_counts()"
      ],
      "metadata": {
        "colab": {
          "base_uri": "https://localhost:8080/"
        },
        "id": "PuKo1wr5Z1B-",
        "outputId": "e5928ce9-226c-4091-f44e-1ac9c563af4a"
      },
      "execution_count": 9,
      "outputs": [
        {
          "output_type": "execute_result",
          "data": {
            "text/plain": [
              "Missing     95\n",
              "VivoBook    89\n",
              "Inspiron    77\n",
              "Pavilion    38\n",
              "IdeaPad     37\n",
              "            ..\n",
              "B50-70       1\n",
              "GE76         1\n",
              "GP65         1\n",
              "GP76         1\n",
              "Thinkpad     1\n",
              "Name: model, Length: 117, dtype: int64"
            ]
          },
          "metadata": {},
          "execution_count": 9
        }
      ]
    },
    {
      "cell_type": "code",
      "source": [
        "df['processor_gnrtn'].value_counts()"
      ],
      "metadata": {
        "colab": {
          "base_uri": "https://localhost:8080/"
        },
        "id": "4al9LWyydvGx",
        "outputId": "5034e137-4964-42d0-90ef-4985816cb9a6"
      },
      "execution_count": 10,
      "outputs": [
        {
          "output_type": "execute_result",
          "data": {
            "text/plain": [
              "11th       346\n",
              "10th       246\n",
              "Missing    239\n",
              "8th         43\n",
              "7th         12\n",
              "9th          6\n",
              "12th         3\n",
              "4th          1\n",
              "Name: processor_gnrtn, dtype: int64"
            ]
          },
          "metadata": {},
          "execution_count": 10
        }
      ]
    },
    {
      "cell_type": "code",
      "source": [
        "df['display_size'].value_counts()"
      ],
      "metadata": {
        "colab": {
          "base_uri": "https://localhost:8080/"
        },
        "id": "jEUszGOndu25",
        "outputId": "dc1c7c25-d0b8-4a88-c27b-216a3ef01202"
      },
      "execution_count": 11,
      "outputs": [
        {
          "output_type": "execute_result",
          "data": {
            "text/plain": [
              "Missing    332\n",
              "15.6       218\n",
              "16         135\n",
              "14         131\n",
              "13.3        40\n",
              "17.3         9\n",
              "14.96        7\n",
              "14.1         6\n",
              "13           4\n",
              "15           3\n",
              "14.2         3\n",
              "16.2         3\n",
              "12.2         2\n",
              "14.9         1\n",
              "16.1         1\n",
              "13.4         1\n",
              "Name: display_size, dtype: int64"
            ]
          },
          "metadata": {},
          "execution_count": 11
        }
      ]
    },
    {
      "cell_type": "code",
      "source": [
        "df.drop(df.index[df['display_size'] == 'Missing'], inplace=True)"
      ],
      "metadata": {
        "id": "sn9KKj7eea31"
      },
      "execution_count": 12,
      "outputs": []
    },
    {
      "cell_type": "code",
      "source": [
        "df.drop('old_price', axis=1, inplace=True)"
      ],
      "metadata": {
        "id": "iE9I3OH9EJ-q"
      },
      "execution_count": 13,
      "outputs": []
    },
    {
      "cell_type": "code",
      "source": [
        "df['latest_price'] = (df['latest_price'] / 76.96)"
      ],
      "metadata": {
        "id": "OLeSuWCoDxxc"
      },
      "execution_count": 14,
      "outputs": []
    },
    {
      "cell_type": "code",
      "source": [
        "df_prices = df[['latest_price']].copy()\n",
        "df_prices"
      ],
      "metadata": {
        "colab": {
          "base_uri": "https://localhost:8080/",
          "height": 423
        },
        "id": "JQ0hWwzZEBzE",
        "outputId": "4124e40c-0704-4ff7-838c-c6761b578139"
      },
      "execution_count": 15,
      "outputs": [
        {
          "output_type": "execute_result",
          "data": {
            "text/plain": [
              "     latest_price\n",
              "5      324.714137\n",
              "6      271.569647\n",
              "8      349.519231\n",
              "10     450.220894\n",
              "12     519.737526\n",
              "..            ...\n",
              "888   1806.003119\n",
              "890   1767.021830\n",
              "891   1883.965696\n",
              "893   1857.978170\n",
              "895    747.011435\n",
              "\n",
              "[564 rows x 1 columns]"
            ],
            "text/html": [
              "\n",
              "  <div id=\"df-0a0d4f50-560c-434e-9233-60e2de54c1b2\">\n",
              "    <div class=\"colab-df-container\">\n",
              "      <div>\n",
              "<style scoped>\n",
              "    .dataframe tbody tr th:only-of-type {\n",
              "        vertical-align: middle;\n",
              "    }\n",
              "\n",
              "    .dataframe tbody tr th {\n",
              "        vertical-align: top;\n",
              "    }\n",
              "\n",
              "    .dataframe thead th {\n",
              "        text-align: right;\n",
              "    }\n",
              "</style>\n",
              "<table border=\"1\" class=\"dataframe\">\n",
              "  <thead>\n",
              "    <tr style=\"text-align: right;\">\n",
              "      <th></th>\n",
              "      <th>latest_price</th>\n",
              "    </tr>\n",
              "  </thead>\n",
              "  <tbody>\n",
              "    <tr>\n",
              "      <th>5</th>\n",
              "      <td>324.714137</td>\n",
              "    </tr>\n",
              "    <tr>\n",
              "      <th>6</th>\n",
              "      <td>271.569647</td>\n",
              "    </tr>\n",
              "    <tr>\n",
              "      <th>8</th>\n",
              "      <td>349.519231</td>\n",
              "    </tr>\n",
              "    <tr>\n",
              "      <th>10</th>\n",
              "      <td>450.220894</td>\n",
              "    </tr>\n",
              "    <tr>\n",
              "      <th>12</th>\n",
              "      <td>519.737526</td>\n",
              "    </tr>\n",
              "    <tr>\n",
              "      <th>...</th>\n",
              "      <td>...</td>\n",
              "    </tr>\n",
              "    <tr>\n",
              "      <th>888</th>\n",
              "      <td>1806.003119</td>\n",
              "    </tr>\n",
              "    <tr>\n",
              "      <th>890</th>\n",
              "      <td>1767.021830</td>\n",
              "    </tr>\n",
              "    <tr>\n",
              "      <th>891</th>\n",
              "      <td>1883.965696</td>\n",
              "    </tr>\n",
              "    <tr>\n",
              "      <th>893</th>\n",
              "      <td>1857.978170</td>\n",
              "    </tr>\n",
              "    <tr>\n",
              "      <th>895</th>\n",
              "      <td>747.011435</td>\n",
              "    </tr>\n",
              "  </tbody>\n",
              "</table>\n",
              "<p>564 rows × 1 columns</p>\n",
              "</div>\n",
              "      <button class=\"colab-df-convert\" onclick=\"convertToInteractive('df-0a0d4f50-560c-434e-9233-60e2de54c1b2')\"\n",
              "              title=\"Convert this dataframe to an interactive table.\"\n",
              "              style=\"display:none;\">\n",
              "        \n",
              "  <svg xmlns=\"http://www.w3.org/2000/svg\" height=\"24px\"viewBox=\"0 0 24 24\"\n",
              "       width=\"24px\">\n",
              "    <path d=\"M0 0h24v24H0V0z\" fill=\"none\"/>\n",
              "    <path d=\"M18.56 5.44l.94 2.06.94-2.06 2.06-.94-2.06-.94-.94-2.06-.94 2.06-2.06.94zm-11 1L8.5 8.5l.94-2.06 2.06-.94-2.06-.94L8.5 2.5l-.94 2.06-2.06.94zm10 10l.94 2.06.94-2.06 2.06-.94-2.06-.94-.94-2.06-.94 2.06-2.06.94z\"/><path d=\"M17.41 7.96l-1.37-1.37c-.4-.4-.92-.59-1.43-.59-.52 0-1.04.2-1.43.59L10.3 9.45l-7.72 7.72c-.78.78-.78 2.05 0 2.83L4 21.41c.39.39.9.59 1.41.59.51 0 1.02-.2 1.41-.59l7.78-7.78 2.81-2.81c.8-.78.8-2.07 0-2.86zM5.41 20L4 18.59l7.72-7.72 1.47 1.35L5.41 20z\"/>\n",
              "  </svg>\n",
              "      </button>\n",
              "      \n",
              "  <style>\n",
              "    .colab-df-container {\n",
              "      display:flex;\n",
              "      flex-wrap:wrap;\n",
              "      gap: 12px;\n",
              "    }\n",
              "\n",
              "    .colab-df-convert {\n",
              "      background-color: #E8F0FE;\n",
              "      border: none;\n",
              "      border-radius: 50%;\n",
              "      cursor: pointer;\n",
              "      display: none;\n",
              "      fill: #1967D2;\n",
              "      height: 32px;\n",
              "      padding: 0 0 0 0;\n",
              "      width: 32px;\n",
              "    }\n",
              "\n",
              "    .colab-df-convert:hover {\n",
              "      background-color: #E2EBFA;\n",
              "      box-shadow: 0px 1px 2px rgba(60, 64, 67, 0.3), 0px 1px 3px 1px rgba(60, 64, 67, 0.15);\n",
              "      fill: #174EA6;\n",
              "    }\n",
              "\n",
              "    [theme=dark] .colab-df-convert {\n",
              "      background-color: #3B4455;\n",
              "      fill: #D2E3FC;\n",
              "    }\n",
              "\n",
              "    [theme=dark] .colab-df-convert:hover {\n",
              "      background-color: #434B5C;\n",
              "      box-shadow: 0px 1px 3px 1px rgba(0, 0, 0, 0.15);\n",
              "      filter: drop-shadow(0px 1px 2px rgba(0, 0, 0, 0.3));\n",
              "      fill: #FFFFFF;\n",
              "    }\n",
              "  </style>\n",
              "\n",
              "      <script>\n",
              "        const buttonEl =\n",
              "          document.querySelector('#df-0a0d4f50-560c-434e-9233-60e2de54c1b2 button.colab-df-convert');\n",
              "        buttonEl.style.display =\n",
              "          google.colab.kernel.accessAllowed ? 'block' : 'none';\n",
              "\n",
              "        async function convertToInteractive(key) {\n",
              "          const element = document.querySelector('#df-0a0d4f50-560c-434e-9233-60e2de54c1b2');\n",
              "          const dataTable =\n",
              "            await google.colab.kernel.invokeFunction('convertToInteractive',\n",
              "                                                     [key], {});\n",
              "          if (!dataTable) return;\n",
              "\n",
              "          const docLinkHtml = 'Like what you see? Visit the ' +\n",
              "            '<a target=\"_blank\" href=https://colab.research.google.com/notebooks/data_table.ipynb>data table notebook</a>'\n",
              "            + ' to learn more about interactive tables.';\n",
              "          element.innerHTML = '';\n",
              "          dataTable['output_type'] = 'display_data';\n",
              "          await google.colab.output.renderOutput(dataTable, element);\n",
              "          const docLink = document.createElement('div');\n",
              "          docLink.innerHTML = docLinkHtml;\n",
              "          element.appendChild(docLink);\n",
              "        }\n",
              "      </script>\n",
              "    </div>\n",
              "  </div>\n",
              "  "
            ]
          },
          "metadata": {},
          "execution_count": 15
        }
      ]
    },
    {
      "cell_type": "code",
      "source": [
        "sns.displot(df['latest_price'], kde=True);"
      ],
      "metadata": {
        "colab": {
          "base_uri": "https://localhost:8080/",
          "height": 369
        },
        "id": "Z9QPbhdtFLR3",
        "outputId": "f5181852-c403-4838-8ae9-7b17c98cc2cd"
      },
      "execution_count": 16,
      "outputs": [
        {
          "output_type": "display_data",
          "data": {
            "text/plain": [
              "<Figure size 360x360 with 1 Axes>"
            ],
            "image/png": "[encoded data removed]"
          },
          "metadata": {
            "needs_background": "light"
          }
        }
      ]
    },
    {
      "cell_type": "code",
      "source": [
        "df['brand'].value_counts()"
      ],
      "metadata": {
        "colab": {
          "base_uri": "https://localhost:8080/"
        },
        "id": "9EHYXEA6vXEA",
        "outputId": "0d4f81dc-33bd-4959-ea93-5405cf1bb4da"
      },
      "execution_count": 17,
      "outputs": [
        {
          "output_type": "execute_result",
          "data": {
            "text/plain": [
              "ASUS         154\n",
              "Lenovo       101\n",
              "HP            97\n",
              "DELL          90\n",
              "acer          29\n",
              "MSI           29\n",
              "APPLE         27\n",
              "Avita         14\n",
              "Infinix        4\n",
              "Nokia          4\n",
              "ALIENWARE      4\n",
              "RedmiBook      3\n",
              "realme         3\n",
              "Smartron       2\n",
              "Vaio           2\n",
              "Mi             1\n",
              "Name: brand, dtype: int64"
            ]
          },
          "metadata": {},
          "execution_count": 17
        }
      ]
    },
    {
      "cell_type": "code",
      "source": [
        "sns.countplot(data = df, x = 'brand', order = df['brand'].value_counts().index)\n",
        "plt.xticks(rotation=\"vertical\")"
      ],
      "metadata": {
        "id": "EYkgGgv4yGFt",
        "colab": {
          "base_uri": "https://localhost:8080/",
          "height": 364
        },
        "outputId": "9c8837e0-b68f-4266-c5f9-426dbbde83dd"
      },
      "execution_count": 18,
      "outputs": [
        {
          "output_type": "execute_result",
          "data": {
            "text/plain": [
              "(array([ 0,  1,  2,  3,  4,  5,  6,  7,  8,  9, 10, 11, 12, 13, 14, 15]),\n",
              " <a list of 16 Text major ticklabel objects>)"
            ]
          },
          "metadata": {},
          "execution_count": 18
        },
        {
          "output_type": "display_data",
          "data": {
            "text/plain": [
              "<Figure size 432x288 with 1 Axes>"
            ],
            "image/png": "[encoded data removed]"
          },
          "metadata": {
            "needs_background": "light"
          }
        }
      ]
    },
    {
      "cell_type": "code",
      "source": [
        "result = df.groupby([\"brand\"])['latest_price'].median().reset_index().sort_values('latest_price', ascending=False)\n",
        "\n",
        "sns.barplot(data=df, x='brand', y=\"latest_price\", order=result['brand'])\n",
        "plt.xticks(rotation=\"vertical\")"
      ],
      "metadata": {
        "colab": {
          "base_uri": "https://localhost:8080/",
          "height": 363
        },
        "id": "j_Cqnbws-9Jz",
        "outputId": "08a61d75-3db6-4684-fe79-7cfe7a28b692"
      },
      "execution_count": 19,
      "outputs": [
        {
          "output_type": "execute_result",
          "data": {
            "text/plain": [
              "(array([ 0,  1,  2,  3,  4,  5,  6,  7,  8,  9, 10, 11, 12, 13, 14, 15]),\n",
              " <a list of 16 Text major ticklabel objects>)"
            ]
          },
          "metadata": {},
          "execution_count": 19
        },
        {
          "output_type": "display_data",
          "data": {
            "text/plain": [
              "<Figure size 432x288 with 1 Axes>"
            ],
            "image/png": "[encoded data removed]"
          },
          "metadata": {
            "needs_background": "light"
          }
        }
      ]
    },
    {
      "cell_type": "code",
      "source": [
        "categoricals = df.select_dtypes(include=['object'])\n",
        "categoricals"
      ],
      "metadata": {
        "colab": {
          "base_uri": "https://localhost:8080/",
          "height": 661
        },
        "id": "_sWwXVe6UhdW",
        "outputId": "8b1273b6-a383-469d-ca4d-8d89ad4076e6"
      },
      "execution_count": 20,
      "outputs": [
        {
          "output_type": "execute_result",
          "data": {
            "text/plain": [
              "      brand       model processor_brand processor_name processor_gnrtn  \\\n",
              "5     Avita        PURA             AMD       APU Dual            10th   \n",
              "6        HP         APU             AMD       APU Dual            10th   \n",
              "8        HP      Athlon             AMD    Athlon Dual            10th   \n",
              "10     ASUS  ExpertBook           Intel        Core i3            10th   \n",
              "12   Lenovo         v15           Intel        Core i3            10th   \n",
              "..      ...         ...             ...            ...             ...   \n",
              "888    ASUS       Ryzen             AMD        Ryzen 9         Missing   \n",
              "890    ASUS         ROG             AMD        Ryzen 9         Missing   \n",
              "891    ASUS         ROG             AMD        Ryzen 9         Missing   \n",
              "893    ASUS       Ryzen             AMD        Ryzen 9         Missing   \n",
              "895  Lenovo    Thinkpad             AMD        Ryzen 5            10th   \n",
              "\n",
              "       ram_gb ram_type      ssd      hdd       os  os_bit      weight  \\\n",
              "5     8 GB GB     DDR4   256 GB     0 GB  Windows  64-bit  ThinNlight   \n",
              "6     4 GB GB     DDR4     0 GB  1024 GB  Windows  32-bit      Casual   \n",
              "8    32 GB GB     DDR4    32 GB     0 GB  Windows  32-bit      Casual   \n",
              "10    4 GB GB     DDR4     0 GB  1024 GB  Windows  64-bit      Casual   \n",
              "12    4 GB GB     DDR4     0 GB  1024 GB  Windows  64-bit      Casual   \n",
              "..        ...      ...      ...      ...      ...     ...         ...   \n",
              "888   4 GB GB     DDR4  1024 GB     0 GB  Windows  32-bit      Casual   \n",
              "890   4 GB GB     DDR4  1024 GB     0 GB  Windows  64-bit      Casual   \n",
              "891   4 GB GB     DDR4  1024 GB     0 GB  Windows  64-bit      Casual   \n",
              "893   4 GB GB     DDR4  1024 GB     0 GB  Windows  64-bit      Casual   \n",
              "895   8 GB GB     DDR4   512 GB     0 GB      DOS  64-bit  ThinNlight   \n",
              "\n",
              "    display_size Touchscreen msoffice  \n",
              "5             14          No       No  \n",
              "6             14          No       No  \n",
              "8             14          No       No  \n",
              "10          15.6          No       No  \n",
              "12          15.6          No       No  \n",
              "..           ...         ...      ...  \n",
              "888           16          No       No  \n",
              "890           16          No       No  \n",
              "891           16          No       No  \n",
              "893           16          No       No  \n",
              "895           14          No       No  \n",
              "\n",
              "[564 rows x 15 columns]"
            ],
            "text/html": [
              "\n",
              "  <div id=\"df-f97f4d91-7854-46af-a85c-fe7c27ca5df6\">\n",
              "    <div class=\"colab-df-container\">\n",
              "      <div>\n",
              "<style scoped>\n",
              "    .dataframe tbody tr th:only-of-type {\n",
              "        vertical-align: middle;\n",
              "    }\n",
              "\n",
              "    .dataframe tbody tr th {\n",
              "        vertical-align: top;\n",
              "    }\n",
              "\n",
              "    .dataframe thead th {\n",
              "        text-align: right;\n",
              "    }\n",
              "</style>\n",
              "<table border=\"1\" class=\"dataframe\">\n",
              "  <thead>\n",
              "    <tr style=\"text-align: right;\">\n",
              "      <th></th>\n",
              "      <th>brand</th>\n",
              "      <th>model</th>\n",
              "      <th>processor_brand</th>\n",
              "      <th>processor_name</th>\n",
              "      <th>processor_gnrtn</th>\n",
              "      <th>ram_gb</th>\n",
              "      <th>ram_type</th>\n",
              "      <th>ssd</th>\n",
              "      <th>hdd</th>\n",
              "      <th>os</th>\n",
              "      <th>os_bit</th>\n",
              "      <th>weight</th>\n",
              "      <th>display_size</th>\n",
              "      <th>Touchscreen</th>\n",
              "      <th>msoffice</th>\n",
              "    </tr>\n",
              "  </thead>\n",
              "  <tbody>\n",
              "    <tr>\n",
              "      <th>5</th>\n",
              "      <td>Avita</td>\n",
              "      <td>PURA</td>\n",
              "      <td>AMD</td>\n",
              "      <td>APU Dual</td>\n",
              "      <td>10th</td>\n",
              "      <td>8 GB GB</td>\n",
              "      <td>DDR4</td>\n",
              "      <td>256 GB</td>\n",
              "      <td>0 GB</td>\n",
              "      <td>Windows</td>\n",
              "      <td>64-bit</td>\n",
              "      <td>ThinNlight</td>\n",
              "      <td>14</td>\n",
              "      <td>No</td>\n",
              "      <td>No</td>\n",
              "    </tr>\n",
              "    <tr>\n",
              "      <th>6</th>\n",
              "      <td>HP</td>\n",
              "      <td>APU</td>\n",
              "      <td>AMD</td>\n",
              "      <td>APU Dual</td>\n",
              "      <td>10th</td>\n",
              "      <td>4 GB GB</td>\n",
              "      <td>DDR4</td>\n",
              "      <td>0 GB</td>\n",
              "      <td>1024 GB</td>\n",
              "      <td>Windows</td>\n",
              "      <td>32-bit</td>\n",
              "      <td>Casual</td>\n",
              "      <td>14</td>\n",
              "      <td>No</td>\n",
              "      <td>No</td>\n",
              "    </tr>\n",
              "    <tr>\n",
              "      <th>8</th>\n",
              "      <td>HP</td>\n",
              "      <td>Athlon</td>\n",
              "      <td>AMD</td>\n",
              "      <td>Athlon Dual</td>\n",
              "      <td>10th</td>\n",
              "      <td>32 GB GB</td>\n",
              "      <td>DDR4</td>\n",
              "      <td>32 GB</td>\n",
              "      <td>0 GB</td>\n",
              "      <td>Windows</td>\n",
              "      <td>32-bit</td>\n",
              "      <td>Casual</td>\n",
              "      <td>14</td>\n",
              "      <td>No</td>\n",
              "      <td>No</td>\n",
              "    </tr>\n",
              "    <tr>\n",
              "      <th>10</th>\n",
              "      <td>ASUS</td>\n",
              "      <td>ExpertBook</td>\n",
              "      <td>Intel</td>\n",
              "      <td>Core i3</td>\n",
              "      <td>10th</td>\n",
              "      <td>4 GB GB</td>\n",
              "      <td>DDR4</td>\n",
              "      <td>0 GB</td>\n",
              "      <td>1024 GB</td>\n",
              "      <td>Windows</td>\n",
              "      <td>64-bit</td>\n",
              "      <td>Casual</td>\n",
              "      <td>15.6</td>\n",
              "      <td>No</td>\n",
              "      <td>No</td>\n",
              "    </tr>\n",
              "    <tr>\n",
              "      <th>12</th>\n",
              "      <td>Lenovo</td>\n",
              "      <td>v15</td>\n",
              "      <td>Intel</td>\n",
              "      <td>Core i3</td>\n",
              "      <td>10th</td>\n",
              "      <td>4 GB GB</td>\n",
              "      <td>DDR4</td>\n",
              "      <td>0 GB</td>\n",
              "      <td>1024 GB</td>\n",
              "      <td>Windows</td>\n",
              "      <td>64-bit</td>\n",
              "      <td>Casual</td>\n",
              "      <td>15.6</td>\n",
              "      <td>No</td>\n",
              "      <td>No</td>\n",
              "    </tr>\n",
              "    <tr>\n",
              "      <th>...</th>\n",
              "      <td>...</td>\n",
              "      <td>...</td>\n",
              "      <td>...</td>\n",
              "      <td>...</td>\n",
              "      <td>...</td>\n",
              "      <td>...</td>\n",
              "      <td>...</td>\n",
              "      <td>...</td>\n",
              "      <td>...</td>\n",
              "      <td>...</td>\n",
              "      <td>...</td>\n",
              "      <td>...</td>\n",
              "      <td>...</td>\n",
              "      <td>...</td>\n",
              "      <td>...</td>\n",
              "    </tr>\n",
              "    <tr>\n",
              "      <th>888</th>\n",
              "      <td>ASUS</td>\n",
              "      <td>Ryzen</td>\n",
              "      <td>AMD</td>\n",
              "      <td>Ryzen 9</td>\n",
              "      <td>Missing</td>\n",
              "      <td>4 GB GB</td>\n",
              "      <td>DDR4</td>\n",
              "      <td>1024 GB</td>\n",
              "      <td>0 GB</td>\n",
              "      <td>Windows</td>\n",
              "      <td>32-bit</td>\n",
              "      <td>Casual</td>\n",
              "      <td>16</td>\n",
              "      <td>No</td>\n",
              "      <td>No</td>\n",
              "    </tr>\n",
              "    <tr>\n",
              "      <th>890</th>\n",
              "      <td>ASUS</td>\n",
              "      <td>ROG</td>\n",
              "      <td>AMD</td>\n",
              "      <td>Ryzen 9</td>\n",
              "      <td>Missing</td>\n",
              "      <td>4 GB GB</td>\n",
              "      <td>DDR4</td>\n",
              "      <td>1024 GB</td>\n",
              "      <td>0 GB</td>\n",
              "      <td>Windows</td>\n",
              "      <td>64-bit</td>\n",
              "      <td>Casual</td>\n",
              "      <td>16</td>\n",
              "      <td>No</td>\n",
              "      <td>No</td>\n",
              "    </tr>\n",
              "    <tr>\n",
              "      <th>891</th>\n",
              "      <td>ASUS</td>\n",
              "      <td>ROG</td>\n",
              "      <td>AMD</td>\n",
              "      <td>Ryzen 9</td>\n",
              "      <td>Missing</td>\n",
              "      <td>4 GB GB</td>\n",
              "      <td>DDR4</td>\n",
              "      <td>1024 GB</td>\n",
              "      <td>0 GB</td>\n",
              "      <td>Windows</td>\n",
              "      <td>64-bit</td>\n",
              "      <td>Casual</td>\n",
              "      <td>16</td>\n",
              "      <td>No</td>\n",
              "      <td>No</td>\n",
              "    </tr>\n",
              "    <tr>\n",
              "      <th>893</th>\n",
              "      <td>ASUS</td>\n",
              "      <td>Ryzen</td>\n",
              "      <td>AMD</td>\n",
              "      <td>Ryzen 9</td>\n",
              "      <td>Missing</td>\n",
              "      <td>4 GB GB</td>\n",
              "      <td>DDR4</td>\n",
              "      <td>1024 GB</td>\n",
              "      <td>0 GB</td>\n",
              "      <td>Windows</td>\n",
              "      <td>64-bit</td>\n",
              "      <td>Casual</td>\n",
              "      <td>16</td>\n",
              "      <td>No</td>\n",
              "      <td>No</td>\n",
              "    </tr>\n",
              "    <tr>\n",
              "      <th>895</th>\n",
              "      <td>Lenovo</td>\n",
              "      <td>Thinkpad</td>\n",
              "      <td>AMD</td>\n",
              "      <td>Ryzen 5</td>\n",
              "      <td>10th</td>\n",
              "      <td>8 GB GB</td>\n",
              "      <td>DDR4</td>\n",
              "      <td>512 GB</td>\n",
              "      <td>0 GB</td>\n",
              "      <td>DOS</td>\n",
              "      <td>64-bit</td>\n",
              "      <td>ThinNlight</td>\n",
              "      <td>14</td>\n",
              "      <td>No</td>\n",
              "      <td>No</td>\n",
              "    </tr>\n",
              "  </tbody>\n",
              "</table>\n",
              "<p>564 rows × 15 columns</p>\n",
              "</div>\n",
              "      <button class=\"colab-df-convert\" onclick=\"convertToInteractive('df-f97f4d91-7854-46af-a85c-fe7c27ca5df6')\"\n",
              "              title=\"Convert this dataframe to an interactive table.\"\n",
              "              style=\"display:none;\">\n",
              "        \n",
              "  <svg xmlns=\"http://www.w3.org/2000/svg\" height=\"24px\"viewBox=\"0 0 24 24\"\n",
              "       width=\"24px\">\n",
              "    <path d=\"M0 0h24v24H0V0z\" fill=\"none\"/>\n",
              "    <path d=\"M18.56 5.44l.94 2.06.94-2.06 2.06-.94-2.06-.94-.94-2.06-.94 2.06-2.06.94zm-11 1L8.5 8.5l.94-2.06 2.06-.94-2.06-.94L8.5 2.5l-.94 2.06-2.06.94zm10 10l.94 2.06.94-2.06 2.06-.94-2.06-.94-.94-2.06-.94 2.06-2.06.94z\"/><path d=\"M17.41 7.96l-1.37-1.37c-.4-.4-.92-.59-1.43-.59-.52 0-1.04.2-1.43.59L10.3 9.45l-7.72 7.72c-.78.78-.78 2.05 0 2.83L4 21.41c.39.39.9.59 1.41.59.51 0 1.02-.2 1.41-.59l7.78-7.78 2.81-2.81c.8-.78.8-2.07 0-2.86zM5.41 20L4 18.59l7.72-7.72 1.47 1.35L5.41 20z\"/>\n",
              "  </svg>\n",
              "      </button>\n",
              "      \n",
              "  <style>\n",
              "    .colab-df-container {\n",
              "      display:flex;\n",
              "      flex-wrap:wrap;\n",
              "      gap: 12px;\n",
              "    }\n",
              "\n",
              "    .colab-df-convert {\n",
              "      background-color: #E8F0FE;\n",
              "      border: none;\n",
              "      border-radius: 50%;\n",
              "      cursor: pointer;\n",
              "      display: none;\n",
              "      fill: #1967D2;\n",
              "      height: 32px;\n",
              "      padding: 0 0 0 0;\n",
              "      width: 32px;\n",
              "    }\n",
              "\n",
              "    .colab-df-convert:hover {\n",
              "      background-color: #E2EBFA;\n",
              "      box-shadow: 0px 1px 2px rgba(60, 64, 67, 0.3), 0px 1px 3px 1px rgba(60, 64, 67, 0.15);\n",
              "      fill: #174EA6;\n",
              "    }\n",
              "\n",
              "    [theme=dark] .colab-df-convert {\n",
              "      background-color: #3B4455;\n",
              "      fill: #D2E3FC;\n",
              "    }\n",
              "\n",
              "    [theme=dark] .colab-df-convert:hover {\n",
              "      background-color: #434B5C;\n",
              "      box-shadow: 0px 1px 3px 1px rgba(0, 0, 0, 0.15);\n",
              "      filter: drop-shadow(0px 1px 2px rgba(0, 0, 0, 0.3));\n",
              "      fill: #FFFFFF;\n",
              "    }\n",
              "  </style>\n",
              "\n",
              "      <script>\n",
              "        const buttonEl =\n",
              "          document.querySelector('#df-f97f4d91-7854-46af-a85c-fe7c27ca5df6 button.colab-df-convert');\n",
              "        buttonEl.style.display =\n",
              "          google.colab.kernel.accessAllowed ? 'block' : 'none';\n",
              "\n",
              "        async function convertToInteractive(key) {\n",
              "          const element = document.querySelector('#df-f97f4d91-7854-46af-a85c-fe7c27ca5df6');\n",
              "          const dataTable =\n",
              "            await google.colab.kernel.invokeFunction('convertToInteractive',\n",
              "                                                     [key], {});\n",
              "          if (!dataTable) return;\n",
              "\n",
              "          const docLinkHtml = 'Like what you see? Visit the ' +\n",
              "            '<a target=\"_blank\" href=https://colab.research.google.com/notebooks/data_table.ipynb>data table notebook</a>'\n",
              "            + ' to learn more about interactive tables.';\n",
              "          element.innerHTML = '';\n",
              "          dataTable['output_type'] = 'display_data';\n",
              "          await google.colab.output.renderOutput(dataTable, element);\n",
              "          const docLink = document.createElement('div');\n",
              "          docLink.innerHTML = docLinkHtml;\n",
              "          element.appendChild(docLink);\n",
              "        }\n",
              "      </script>\n",
              "    </div>\n",
              "  </div>\n",
              "  "
            ]
          },
          "metadata": {},
          "execution_count": 20
        }
      ]
    },
    {
      "cell_type": "code",
      "source": [
        "categoricals.info()"
      ],
      "metadata": {
        "colab": {
          "base_uri": "https://localhost:8080/"
        },
        "id": "c1ZV1JenVsXa",
        "outputId": "0a1b211a-1f62-4af9-8ae4-a7bb9f5ae972"
      },
      "execution_count": 21,
      "outputs": [
        {
          "output_type": "stream",
          "name": "stdout",
          "text": [
            "<class 'pandas.core.frame.DataFrame'>\n",
            "Int64Index: 564 entries, 5 to 895\n",
            "Data columns (total 15 columns):\n",
            " #   Column           Non-Null Count  Dtype \n",
            "---  ------           --------------  ----- \n",
            " 0   brand            564 non-null    object\n",
            " 1   model            564 non-null    object\n",
            " 2   processor_brand  564 non-null    object\n",
            " 3   processor_name   564 non-null    object\n",
            " 4   processor_gnrtn  564 non-null    object\n",
            " 5   ram_gb           564 non-null    object\n",
            " 6   ram_type         564 non-null    object\n",
            " 7   ssd              564 non-null    object\n",
            " 8   hdd              564 non-null    object\n",
            " 9   os               564 non-null    object\n",
            " 10  os_bit           564 non-null    object\n",
            " 11  weight           564 non-null    object\n",
            " 12  display_size     564 non-null    object\n",
            " 13  Touchscreen      564 non-null    object\n",
            " 14  msoffice         564 non-null    object\n",
            "dtypes: object(15)\n",
            "memory usage: 86.7+ KB\n"
          ]
        }
      ]
    },
    {
      "cell_type": "code",
      "source": [
        "df['ram_gb'] = df['ram_gb'].str.replace(\"GB GB\", \"\")\n",
        "df['ssd'] = df['ssd'].str.replace(\"GB\", \"\")\n",
        "df['hdd'] = df['hdd'].str.replace(\"GB\", \"\")\n",
        "df['os_bit'] = df['os_bit'].str.replace(\"-bit\", \"\")\n",
        "\n",
        "df['ram_gb'] = df['ram_gb'].astype('int64')\n",
        "df['ssd'] = df['ssd'].astype('int64')\n",
        "df['hdd'] = df['hdd'].astype('int64')\n",
        "df['os_bit'] = df['os_bit'].astype('int64')"
      ],
      "metadata": {
        "id": "o4fTe--lVDWE"
      },
      "execution_count": 22,
      "outputs": []
    },
    {
      "cell_type": "code",
      "source": [
        "from sklearn import preprocessing\n",
        "\n",
        "le = preprocessing.LabelEncoder()\n",
        "\n",
        "df.brand = le.fit_transform(df.brand)\n",
        "df.model = le.fit_transform(df.model)\n",
        "df.processor_brand  = le.fit_transform(df.processor_brand )\n",
        "df.processor_name = le.fit_transform(df.processor_name)\n",
        "df.processor_gnrtn  = le.fit_transform(df.processor_gnrtn )\n",
        "df.ram_type = le.fit_transform(df.ram_type)\n",
        "df.os = le.fit_transform(df.os)\n",
        "df.weight = le.fit_transform(df.weight)\n",
        "df.display_size = le.fit_transform(df.display_size)\n",
        "df.Touchscreen = le.fit_transform(df.Touchscreen)\n",
        "df.msoffice = le.fit_transform(df.msoffice)\n",
        "\n",
        "df"
      ],
      "metadata": {
        "colab": {
          "base_uri": "https://localhost:8080/",
          "height": 487
        },
        "id": "d9ox_y_I0lLZ",
        "outputId": "fcf1b5ca-640f-41ed-d556-68a6f01cad6d"
      },
      "execution_count": 23,
      "outputs": [
        {
          "output_type": "execute_result",
          "data": {
            "text/plain": [
              "     brand  model  processor_brand  processor_name  processor_gnrtn  ram_gb  \\\n",
              "5        3     48                0               0                0       8   \n",
              "6        5      9                0               0                0       4   \n",
              "8        5     14                0               1                0      32   \n",
              "10       2     24                1               3                0       4   \n",
              "12       7     80                1               3                0       4   \n",
              "..     ...    ...              ...             ...              ...     ...   \n",
              "888      2     58                0              17                6       4   \n",
              "890      2     56                0              17                6       4   \n",
              "891      2     56                0              17                6       4   \n",
              "893      2     58                0              17                6       4   \n",
              "895      7     67                0              15                0       8   \n",
              "\n",
              "     ram_type   ssd   hdd  os  ...  weight  display_size  warranty  \\\n",
              "5           1   256     0   2  ...       2             4         0   \n",
              "6           1     0  1024   2  ...       0             4         0   \n",
              "8           1    32     0   2  ...       0             4         0   \n",
              "10          1     0  1024   2  ...       0            10         0   \n",
              "12          1     0  1024   2  ...       0            10         0   \n",
              "..        ...   ...   ...  ..  ...     ...           ...       ...   \n",
              "888         1  1024     0   2  ...       0            11         0   \n",
              "890         1  1024     0   2  ...       0            11         1   \n",
              "891         1  1024     0   2  ...       0            11         1   \n",
              "893         1  1024     0   2  ...       0            11         1   \n",
              "895         1   512     0   0  ...       2             4         0   \n",
              "\n",
              "     Touchscreen  msoffice  latest_price  discount  star_rating  ratings  \\\n",
              "5              0         0    324.714137        25          3.7     1657   \n",
              "6              0         0    271.569647         8          3.9     1185   \n",
              "8              0         0    349.519231         2          0.0        0   \n",
              "10             0         0    450.220894        17          2.3        3   \n",
              "12             0         0    519.737526         9          3.1        8   \n",
              "..           ...       ...           ...       ...          ...      ...   \n",
              "888            0         0   1806.003119        34          0.0        0   \n",
              "890            0         0   1767.021830        21          0.0        0   \n",
              "891            0         0   1883.965696        25          0.0        0   \n",
              "893            0         0   1857.978170         0          0.0        0   \n",
              "895            0         0    747.011435        26          4.2       18   \n",
              "\n",
              "     reviews  \n",
              "5        234  \n",
              "6        141  \n",
              "8          0  \n",
              "10         0  \n",
              "12         1  \n",
              "..       ...  \n",
              "888        0  \n",
              "890        0  \n",
              "891        0  \n",
              "893        0  \n",
              "895        4  \n",
              "\n",
              "[564 rows x 22 columns]"
            ],
            "text/html": [
              "\n",
              "  <div id=\"df-060a7b51-e054-48e4-b21f-68630d2c6d16\">\n",
              "    <div class=\"colab-df-container\">\n",
              "      <div>\n",
              "<style scoped>\n",
              "    .dataframe tbody tr th:only-of-type {\n",
              "        vertical-align: middle;\n",
              "    }\n",
              "\n",
              "    .dataframe tbody tr th {\n",
              "        vertical-align: top;\n",
              "    }\n",
              "\n",
              "    .dataframe thead th {\n",
              "        text-align: right;\n",
              "    }\n",
              "</style>\n",
              "<table border=\"1\" class=\"dataframe\">\n",
              "  <thead>\n",
              "    <tr style=\"text-align: right;\">\n",
              "      <th></th>\n",
              "      <th>brand</th>\n",
              "      <th>model</th>\n",
              "      <th>processor_brand</th>\n",
              "      <th>processor_name</th>\n",
              "      <th>processor_gnrtn</th>\n",
              "      <th>ram_gb</th>\n",
              "      <th>ram_type</th>\n",
              "      <th>ssd</th>\n",
              "      <th>hdd</th>\n",
              "      <th>os</th>\n",
              "      <th>...</th>\n",
              "      <th>weight</th>\n",
              "      <th>display_size</th>\n",
              "      <th>warranty</th>\n",
              "      <th>Touchscreen</th>\n",
              "      <th>msoffice</th>\n",
              "      <th>latest_price</th>\n",
              "      <th>discount</th>\n",
              "      <th>star_rating</th>\n",
              "      <th>ratings</th>\n",
              "      <th>reviews</th>\n",
              "    </tr>\n",
              "  </thead>\n",
              "  <tbody>\n",
              "    <tr>\n",
              "      <th>5</th>\n",
              "      <td>3</td>\n",
              "      <td>48</td>\n",
              "      <td>0</td>\n",
              "      <td>0</td>\n",
              "      <td>0</td>\n",
              "      <td>8</td>\n",
              "      <td>1</td>\n",
              "      <td>256</td>\n",
              "      <td>0</td>\n",
              "      <td>2</td>\n",
              "      <td>...</td>\n",
              "      <td>2</td>\n",
              "      <td>4</td>\n",
              "      <td>0</td>\n",
              "      <td>0</td>\n",
              "      <td>0</td>\n",
              "      <td>324.714137</td>\n",
              "      <td>25</td>\n",
              "      <td>3.7</td>\n",
              "      <td>1657</td>\n",
              "      <td>234</td>\n",
              "    </tr>\n",
              "    <tr>\n",
              "      <th>6</th>\n",
              "      <td>5</td>\n",
              "      <td>9</td>\n",
              "      <td>0</td>\n",
              "      <td>0</td>\n",
              "      <td>0</td>\n",
              "      <td>4</td>\n",
              "      <td>1</td>\n",
              "      <td>0</td>\n",
              "      <td>1024</td>\n",
              "      <td>2</td>\n",
              "      <td>...</td>\n",
              "      <td>0</td>\n",
              "      <td>4</td>\n",
              "      <td>0</td>\n",
              "      <td>0</td>\n",
              "      <td>0</td>\n",
              "      <td>271.569647</td>\n",
              "      <td>8</td>\n",
              "      <td>3.9</td>\n",
              "      <td>1185</td>\n",
              "      <td>141</td>\n",
              "    </tr>\n",
              "    <tr>\n",
              "      <th>8</th>\n",
              "      <td>5</td>\n",
              "      <td>14</td>\n",
              "      <td>0</td>\n",
              "      <td>1</td>\n",
              "      <td>0</td>\n",
              "      <td>32</td>\n",
              "      <td>1</td>\n",
              "      <td>32</td>\n",
              "      <td>0</td>\n",
              "      <td>2</td>\n",
              "      <td>...</td>\n",
              "      <td>0</td>\n",
              "      <td>4</td>\n",
              "      <td>0</td>\n",
              "      <td>0</td>\n",
              "      <td>0</td>\n",
              "      <td>349.519231</td>\n",
              "      <td>2</td>\n",
              "      <td>0.0</td>\n",
              "      <td>0</td>\n",
              "      <td>0</td>\n",
              "    </tr>\n",
              "    <tr>\n",
              "      <th>10</th>\n",
              "      <td>2</td>\n",
              "      <td>24</td>\n",
              "      <td>1</td>\n",
              "      <td>3</td>\n",
              "      <td>0</td>\n",
              "      <td>4</td>\n",
              "      <td>1</td>\n",
              "      <td>0</td>\n",
              "      <td>1024</td>\n",
              "      <td>2</td>\n",
              "      <td>...</td>\n",
              "      <td>0</td>\n",
              "      <td>10</td>\n",
              "      <td>0</td>\n",
              "      <td>0</td>\n",
              "      <td>0</td>\n",
              "      <td>450.220894</td>\n",
              "      <td>17</td>\n",
              "      <td>2.3</td>\n",
              "      <td>3</td>\n",
              "      <td>0</td>\n",
              "    </tr>\n",
              "    <tr>\n",
              "      <th>12</th>\n",
              "      <td>7</td>\n",
              "      <td>80</td>\n",
              "      <td>1</td>\n",
              "      <td>3</td>\n",
              "      <td>0</td>\n",
              "      <td>4</td>\n",
              "      <td>1</td>\n",
              "      <td>0</td>\n",
              "      <td>1024</td>\n",
              "      <td>2</td>\n",
              "      <td>...</td>\n",
              "      <td>0</td>\n",
              "      <td>10</td>\n",
              "      <td>0</td>\n",
              "      <td>0</td>\n",
              "      <td>0</td>\n",
              "      <td>519.737526</td>\n",
              "      <td>9</td>\n",
              "      <td>3.1</td>\n",
              "      <td>8</td>\n",
              "      <td>1</td>\n",
              "    </tr>\n",
              "    <tr>\n",
              "      <th>...</th>\n",
              "      <td>...</td>\n",
              "      <td>...</td>\n",
              "      <td>...</td>\n",
              "      <td>...</td>\n",
              "      <td>...</td>\n",
              "      <td>...</td>\n",
              "      <td>...</td>\n",
              "      <td>...</td>\n",
              "      <td>...</td>\n",
              "      <td>...</td>\n",
              "      <td>...</td>\n",
              "      <td>...</td>\n",
              "      <td>...</td>\n",
              "      <td>...</td>\n",
              "      <td>...</td>\n",
              "      <td>...</td>\n",
              "      <td>...</td>\n",
              "      <td>...</td>\n",
              "      <td>...</td>\n",
              "      <td>...</td>\n",
              "      <td>...</td>\n",
              "    </tr>\n",
              "    <tr>\n",
              "      <th>888</th>\n",
              "      <td>2</td>\n",
              "      <td>58</td>\n",
              "      <td>0</td>\n",
              "      <td>17</td>\n",
              "      <td>6</td>\n",
              "      <td>4</td>\n",
              "      <td>1</td>\n",
              "      <td>1024</td>\n",
              "      <td>0</td>\n",
              "      <td>2</td>\n",
              "      <td>...</td>\n",
              "      <td>0</td>\n",
              "      <td>11</td>\n",
              "      <td>0</td>\n",
              "      <td>0</td>\n",
              "      <td>0</td>\n",
              "      <td>1806.003119</td>\n",
              "      <td>34</td>\n",
              "      <td>0.0</td>\n",
              "      <td>0</td>\n",
              "      <td>0</td>\n",
              "    </tr>\n",
              "    <tr>\n",
              "      <th>890</th>\n",
              "      <td>2</td>\n",
              "      <td>56</td>\n",
              "      <td>0</td>\n",
              "      <td>17</td>\n",
              "      <td>6</td>\n",
              "      <td>4</td>\n",
              "      <td>1</td>\n",
              "      <td>1024</td>\n",
              "      <td>0</td>\n",
              "      <td>2</td>\n",
              "      <td>...</td>\n",
              "      <td>0</td>\n",
              "      <td>11</td>\n",
              "      <td>1</td>\n",
              "      <td>0</td>\n",
              "      <td>0</td>\n",
              "      <td>1767.021830</td>\n",
              "      <td>21</td>\n",
              "      <td>0.0</td>\n",
              "      <td>0</td>\n",
              "      <td>0</td>\n",
              "    </tr>\n",
              "    <tr>\n",
              "      <th>891</th>\n",
              "      <td>2</td>\n",
              "      <td>56</td>\n",
              "      <td>0</td>\n",
              "      <td>17</td>\n",
              "      <td>6</td>\n",
              "      <td>4</td>\n",
              "      <td>1</td>\n",
              "      <td>1024</td>\n",
              "      <td>0</td>\n",
              "      <td>2</td>\n",
              "      <td>...</td>\n",
              "      <td>0</td>\n",
              "      <td>11</td>\n",
              "      <td>1</td>\n",
              "      <td>0</td>\n",
              "      <td>0</td>\n",
              "      <td>1883.965696</td>\n",
              "      <td>25</td>\n",
              "      <td>0.0</td>\n",
              "      <td>0</td>\n",
              "      <td>0</td>\n",
              "    </tr>\n",
              "    <tr>\n",
              "      <th>893</th>\n",
              "      <td>2</td>\n",
              "      <td>58</td>\n",
              "      <td>0</td>\n",
              "      <td>17</td>\n",
              "      <td>6</td>\n",
              "      <td>4</td>\n",
              "      <td>1</td>\n",
              "      <td>1024</td>\n",
              "      <td>0</td>\n",
              "      <td>2</td>\n",
              "      <td>...</td>\n",
              "      <td>0</td>\n",
              "      <td>11</td>\n",
              "      <td>1</td>\n",
              "      <td>0</td>\n",
              "      <td>0</td>\n",
              "      <td>1857.978170</td>\n",
              "      <td>0</td>\n",
              "      <td>0.0</td>\n",
              "      <td>0</td>\n",
              "      <td>0</td>\n",
              "    </tr>\n",
              "    <tr>\n",
              "      <th>895</th>\n",
              "      <td>7</td>\n",
              "      <td>67</td>\n",
              "      <td>0</td>\n",
              "      <td>15</td>\n",
              "      <td>0</td>\n",
              "      <td>8</td>\n",
              "      <td>1</td>\n",
              "      <td>512</td>\n",
              "      <td>0</td>\n",
              "      <td>0</td>\n",
              "      <td>...</td>\n",
              "      <td>2</td>\n",
              "      <td>4</td>\n",
              "      <td>0</td>\n",
              "      <td>0</td>\n",
              "      <td>0</td>\n",
              "      <td>747.011435</td>\n",
              "      <td>26</td>\n",
              "      <td>4.2</td>\n",
              "      <td>18</td>\n",
              "      <td>4</td>\n",
              "    </tr>\n",
              "  </tbody>\n",
              "</table>\n",
              "<p>564 rows × 22 columns</p>\n",
              "</div>\n",
              "      <button class=\"colab-df-convert\" onclick=\"convertToInteractive('df-060a7b51-e054-48e4-b21f-68630d2c6d16')\"\n",
              "              title=\"Convert this dataframe to an interactive table.\"\n",
              "              style=\"display:none;\">\n",
              "        \n",
              "  <svg xmlns=\"http://www.w3.org/2000/svg\" height=\"24px\"viewBox=\"0 0 24 24\"\n",
              "       width=\"24px\">\n",
              "    <path d=\"M0 0h24v24H0V0z\" fill=\"none\"/>\n",
              "    <path d=\"M18.56 5.44l.94 2.06.94-2.06 2.06-.94-2.06-.94-.94-2.06-.94 2.06-2.06.94zm-11 1L8.5 8.5l.94-2.06 2.06-.94-2.06-.94L8.5 2.5l-.94 2.06-2.06.94zm10 10l.94 2.06.94-2.06 2.06-.94-2.06-.94-.94-2.06-.94 2.06-2.06.94z\"/><path d=\"M17.41 7.96l-1.37-1.37c-.4-.4-.92-.59-1.43-.59-.52 0-1.04.2-1.43.59L10.3 9.45l-7.72 7.72c-.78.78-.78 2.05 0 2.83L4 21.41c.39.39.9.59 1.41.59.51 0 1.02-.2 1.41-.59l7.78-7.78 2.81-2.81c.8-.78.8-2.07 0-2.86zM5.41 20L4 18.59l7.72-7.72 1.47 1.35L5.41 20z\"/>\n",
              "  </svg>\n",
              "      </button>\n",
              "      \n",
              "  <style>\n",
              "    .colab-df-container {\n",
              "      display:flex;\n",
              "      flex-wrap:wrap;\n",
              "      gap: 12px;\n",
              "    }\n",
              "\n",
              "    .colab-df-convert {\n",
              "      background-color: #E8F0FE;\n",
              "      border: none;\n",
              "      border-radius: 50%;\n",
              "      cursor: pointer;\n",
              "      display: none;\n",
              "      fill: #1967D2;\n",
              "      height: 32px;\n",
              "      padding: 0 0 0 0;\n",
              "      width: 32px;\n",
              "    }\n",
              "\n",
              "    .colab-df-convert:hover {\n",
              "      background-color: #E2EBFA;\n",
              "      box-shadow: 0px 1px 2px rgba(60, 64, 67, 0.3), 0px 1px 3px 1px rgba(60, 64, 67, 0.15);\n",
              "      fill: #174EA6;\n",
              "    }\n",
              "\n",
              "    [theme=dark] .colab-df-convert {\n",
              "      background-color: #3B4455;\n",
              "      fill: #D2E3FC;\n",
              "    }\n",
              "\n",
              "    [theme=dark] .colab-df-convert:hover {\n",
              "      background-color: #434B5C;\n",
              "      box-shadow: 0px 1px 3px 1px rgba(0, 0, 0, 0.15);\n",
              "      filter: drop-shadow(0px 1px 2px rgba(0, 0, 0, 0.3));\n",
              "      fill: #FFFFFF;\n",
              "    }\n",
              "  </style>\n",
              "\n",
              "      <script>\n",
              "        const buttonEl =\n",
              "          document.querySelector('#df-060a7b51-e054-48e4-b21f-68630d2c6d16 button.colab-df-convert');\n",
              "        buttonEl.style.display =\n",
              "          google.colab.kernel.accessAllowed ? 'block' : 'none';\n",
              "\n",
              "        async function convertToInteractive(key) {\n",
              "          const element = document.querySelector('#df-060a7b51-e054-48e4-b21f-68630d2c6d16');\n",
              "          const dataTable =\n",
              "            await google.colab.kernel.invokeFunction('convertToInteractive',\n",
              "                                                     [key], {});\n",
              "          if (!dataTable) return;\n",
              "\n",
              "          const docLinkHtml = 'Like what you see? Visit the ' +\n",
              "            '<a target=\"_blank\" href=https://colab.research.google.com/notebooks/data_table.ipynb>data table notebook</a>'\n",
              "            + ' to learn more about interactive tables.';\n",
              "          element.innerHTML = '';\n",
              "          dataTable['output_type'] = 'display_data';\n",
              "          await google.colab.output.renderOutput(dataTable, element);\n",
              "          const docLink = document.createElement('div');\n",
              "          docLink.innerHTML = docLinkHtml;\n",
              "          element.appendChild(docLink);\n",
              "        }\n",
              "      </script>\n",
              "    </div>\n",
              "  </div>\n",
              "  "
            ]
          },
          "metadata": {},
          "execution_count": 23
        }
      ]
    },
    {
      "cell_type": "code",
      "source": [
        "df.info()"
      ],
      "metadata": {
        "colab": {
          "base_uri": "https://localhost:8080/"
        },
        "id": "5CgTnqR03gev",
        "outputId": "4fd8dfbc-020f-4be5-dd21-48310ac01707"
      },
      "execution_count": 24,
      "outputs": [
        {
          "output_type": "stream",
          "name": "stdout",
          "text": [
            "<class 'pandas.core.frame.DataFrame'>\n",
            "Int64Index: 564 entries, 5 to 895\n",
            "Data columns (total 22 columns):\n",
            " #   Column           Non-Null Count  Dtype  \n",
            "---  ------           --------------  -----  \n",
            " 0   brand            564 non-null    int64  \n",
            " 1   model            564 non-null    int64  \n",
            " 2   processor_brand  564 non-null    int64  \n",
            " 3   processor_name   564 non-null    int64  \n",
            " 4   processor_gnrtn  564 non-null    int64  \n",
            " 5   ram_gb           564 non-null    int64  \n",
            " 6   ram_type         564 non-null    int64  \n",
            " 7   ssd              564 non-null    int64  \n",
            " 8   hdd              564 non-null    int64  \n",
            " 9   os               564 non-null    int64  \n",
            " 10  os_bit           564 non-null    int64  \n",
            " 11  graphic_card_gb  564 non-null    int64  \n",
            " 12  weight           564 non-null    int64  \n",
            " 13  display_size     564 non-null    int64  \n",
            " 14  warranty         564 non-null    int64  \n",
            " 15  Touchscreen      564 non-null    int64  \n",
            " 16  msoffice         564 non-null    int64  \n",
            " 17  latest_price     564 non-null    float64\n",
            " 18  discount         564 non-null    int64  \n",
            " 19  star_rating      564 non-null    float64\n",
            " 20  ratings          564 non-null    int64  \n",
            " 21  reviews          564 non-null    int64  \n",
            "dtypes: float64(2), int64(20)\n",
            "memory usage: 117.5 KB\n"
          ]
        }
      ]
    },
    {
      "cell_type": "code",
      "source": [
        "plt.figure(figsize = (10,10))\n",
        "sns.heatmap(df.corr(), linewidth=1)"
      ],
      "metadata": {
        "colab": {
          "base_uri": "https://localhost:8080/",
          "height": 686
        },
        "id": "LVVGof4I31Hz",
        "outputId": "1c2981cc-c171-4515-d706-0d7f77f7b2b3"
      },
      "execution_count": 25,
      "outputs": [
        {
          "output_type": "execute_result",
          "data": {
            "text/plain": [
              "<matplotlib.axes._subplots.AxesSubplot at 0x7f30831bca50>"
            ]
          },
          "metadata": {},
          "execution_count": 25
        },
        {
          "output_type": "display_data",
          "data": {
            "text/plain": [
              "<Figure size 720x720 with 2 Axes>"
            ],
            "image/png": "[encoded data removed]"
          },
          "metadata": {
            "needs_background": "light"
          }
        }
      ]
    },
    {
      "cell_type": "code",
      "source": [
        "plt.figure(figsize = (10,10))\n",
        "sns.heatmap(df.corr()[['latest_price']].sort_values(\n",
        "    by=['latest_price'],ascending=False), vmin=-1,annot=True);"
      ],
      "metadata": {
        "colab": {
          "base_uri": "https://localhost:8080/",
          "height": 596
        },
        "id": "unyyrn3F4A0r",
        "outputId": "2509313d-bb7c-4340-d7e9-7e5f8e21331e"
      },
      "execution_count": 26,
      "outputs": [
        {
          "output_type": "display_data",
          "data": {
            "text/plain": [
              "<Figure size 720x720 with 2 Axes>"
            ],
            "image/png": "[encoded data removed]"
          },
          "metadata": {
            "needs_background": "light"
          }
        }
      ]
    },
    {
      "cell_type": "code",
      "source": [
        "fig, axes = plt.subplots(3, 4, figsize=(25, 15))\n",
        "\n",
        "sns.regplot(x=\"ssd\", y=\"latest_price\", data=df, ax=axes[0, 0])\n",
        "sns.regplot(x=\"graphic_card_gb\", y=\"latest_price\", data=df, ax=axes[0, 1])\n",
        "sns.regplot(x=\"ram_gb\", y=\"latest_price\", data=df, ax=axes[0, 2])\n",
        "sns.regplot(x=\"ram_type\", y=\"latest_price\", data=df, ax=axes[0, 3])\n",
        "sns.regplot(x=\"Touchscreen\", y=\"latest_price\", data=df, ax=axes[1, 0])\n",
        "sns.regplot(x=\"model\", y=\"latest_price\", data=df, ax=axes[1, 1])\n",
        "sns.regplot(x=\"processor_name\", y=\"latest_price\", data=df, ax=axes[1, 2])\n",
        "sns.regplot(x=\"processor_brand\", y=\"latest_price\", data=df, ax=axes[1, 3])\n",
        "sns.regplot(x=\"warranty\", y=\"latest_price\", data=df, ax=axes[2, 0])\n",
        "sns.regplot(x=\"display_size\", y=\"latest_price\", data=df, ax=axes[2, 1])\n",
        "fig.delaxes(axes[2][2])\n",
        "fig.delaxes(axes[2][3])"
      ],
      "metadata": {
        "colab": {
          "base_uri": "https://localhost:8080/",
          "height": 648
        },
        "id": "mPP7No49H24h",
        "outputId": "5ca73932-02f0-4414-9a5b-bb74a47706da"
      },
      "execution_count": 27,
      "outputs": [
        {
          "output_type": "display_data",
          "data": {
            "text/plain": [
              "<Figure size 1800x1080 with 10 Axes>"
            ],
            "image/png": "[encoded data removed]"
          },
          "metadata": {
            "needs_background": "light"
          }
        }
      ]
    },
    {
      "cell_type": "code",
      "source": [
        "sns.displot(df['latest_price'], kde=True);\n",
        "print(\"Skewness: %f\" % df['latest_price'].skew())"
      ],
      "metadata": {
        "colab": {
          "base_uri": "https://localhost:8080/",
          "height": 387
        },
        "id": "3P6gwDz980AQ",
        "outputId": "f65ad05e-cd67-4fbd-9828-8f50dc6bba4d"
      },
      "execution_count": 28,
      "outputs": [
        {
          "output_type": "stream",
          "name": "stdout",
          "text": [
            "Skewness: 1.911016\n"
          ]
        },
        {
          "output_type": "display_data",
          "data": {
            "text/plain": [
              "<Figure size 360x360 with 1 Axes>"
            ],
            "image/png": "[encoded data removed]"
          },
          "metadata": {
            "needs_background": "light"
          }
        }
      ]
    },
    {
      "cell_type": "code",
      "source": [
        "df[\"latest_price\"] = np.log1p(df[\"latest_price\"])\n",
        " \n",
        "sns.displot(df['latest_price'], kde=True)\n",
        "print(\"Skewness: %f\" % df['latest_price'].skew())"
      ],
      "metadata": {
        "colab": {
          "base_uri": "https://localhost:8080/",
          "height": 387
        },
        "id": "QqR-gQmm8-DY",
        "outputId": "cc5062a2-0282-47bf-c8b9-8f53f47ff114"
      },
      "execution_count": 29,
      "outputs": [
        {
          "output_type": "stream",
          "name": "stdout",
          "text": [
            "Skewness: 0.481807\n"
          ]
        },
        {
          "output_type": "display_data",
          "data": {
            "text/plain": [
              "<Figure size 360x360 with 1 Axes>"
            ],
            "image/png": "[encoded data removed]"
          },
          "metadata": {
            "needs_background": "light"
          }
        }
      ]
    },
    {
      "cell_type": "markdown",
      "source": [
        "### **Linear Regression**"
      ],
      "metadata": {
        "id": "Ax40agEJ5kgX"
      }
    },
    {
      "cell_type": "code",
      "source": [
        "import sklearn\n",
        "from sklearn.model_selection import train_test_split\n",
        "from sklearn.metrics import mean_squared_error, r2_score, mean_absolute_error\n",
        "from sklearn.preprocessing import StandardScaler\n",
        "from sklearn.pipeline import Pipeline\n",
        "from sklearn.linear_model import LinearRegression\n",
        "from sklearn.ensemble import RandomForestRegressor\n",
        "from sklearn.tree import DecisionTreeRegressor\n",
        "from sklearn.svm import SVR"
      ],
      "metadata": {
        "id": "jFmHPk605fH0"
      },
      "execution_count": 30,
      "outputs": []
    },
    {
      "cell_type": "code",
      "source": [
        "features = ['ssd', 'ram_gb', 'graphic_card_gb', 'ram_type', \n",
        "            'display_size', 'processor_name', 'processor_brand', \n",
        "            'Touchscreen', 'model', 'warranty']"
      ],
      "metadata": {
        "id": "D3pQX0vR5vf2"
      },
      "execution_count": 31,
      "outputs": []
    },
    {
      "cell_type": "code",
      "source": [
        "X = df[features]\n",
        "y = df['latest_price']"
      ],
      "metadata": {
        "id": "hfhyqvKE770A"
      },
      "execution_count": 32,
      "outputs": []
    },
    {
      "cell_type": "code",
      "source": [
        "X_train, X_test, y_train, y_test = train_test_split(X, y, test_size = .3, \n",
        "                                                    random_state=42) "
      ],
      "metadata": {
        "id": "K27x7tw07_1i"
      },
      "execution_count": 33,
      "outputs": []
    },
    {
      "cell_type": "code",
      "source": [
        "lr_pipe = Pipeline([('scl',StandardScaler()), ('clf',LinearRegression())])\n",
        "\n",
        "lr_pipe.fit(X_train,y_train)\n",
        "\n",
        "y_pred = lr_pipe.predict(X_test)\n",
        "\n",
        "print('Coefficient of Determination:', lr_pipe.score(X_test, y_test))\n",
        "print('Mean Absolute Error:', mean_absolute_error(y_test, y_pred))\n",
        "print('Mean Squared Error:', mean_squared_error(y_test, y_pred))\n",
        "print('Root Mean Squared Error:', np.sqrt(mean_squared_error(y_test, y_pred)))"
      ],
      "metadata": {
        "colab": {
          "base_uri": "https://localhost:8080/"
        },
        "id": "YiWGyL_elggU",
        "outputId": "842fb353-8851-411e-abb0-67e1472ed1a8"
      },
      "execution_count": 34,
      "outputs": [
        {
          "output_type": "stream",
          "name": "stdout",
          "text": [
            "Coefficient of Determination: 0.7095955386893343\n",
            "Mean Absolute Error: 0.20215650330363358\n",
            "Mean Squared Error: 0.07746192765750519\n",
            "Root Mean Squared Error: 0.27831982979569597\n"
          ]
        }
      ]
    },
    {
      "cell_type": "code",
      "source": [
        "rf_pipe = Pipeline([('scl', StandardScaler()),('clf',RandomForestRegressor\n",
        "                                               (n_estimators=50, \n",
        "                                                min_samples_split=5 ))])\n",
        "\n",
        "rf_pipe.fit(X_train, y_train)\n",
        "\n",
        "y_pred = rf_pipe.predict(X_test)\n",
        "\n",
        "print('Coefficient of Determination:', rf_pipe.score(X_test, y_test))\n",
        "print('Mean Absolute Error:', mean_absolute_error(y_test, y_pred))\n",
        "print('Mean Squared Error:', mean_squared_error(y_test, y_pred))\n",
        "print('Root Mean Squared Error:', np.sqrt(mean_squared_error(y_test, y_pred)))"
      ],
      "metadata": {
        "colab": {
          "base_uri": "https://localhost:8080/"
        },
        "id": "QoMuu2v4sQdM",
        "outputId": "52acc420-189d-4ac8-cfda-81fecb207a37"
      },
      "execution_count": 35,
      "outputs": [
        {
          "output_type": "stream",
          "name": "stdout",
          "text": [
            "Coefficient of Determination: 0.8595401255889435\n",
            "Mean Absolute Error: 0.13733676892033783\n",
            "Mean Squared Error: 0.03746599684214948\n",
            "Root Mean Squared Error: 0.1935613516230693\n"
          ]
        }
      ]
    },
    {
      "cell_type": "code",
      "source": [
        "dt_pipe = Pipeline([('scl', StandardScaler()),('clf',DecisionTreeRegressor\n",
        "                                               (random_state = 45))])\n",
        "\n",
        "dt_pipe.fit(X_train, y_train)\n",
        "\n",
        "y_pred = dt_pipe.predict(X_test)\n",
        "\n",
        "print('Coefficient of Determination:', dt_pipe.score(X_test, y_test))\n",
        "print('Mean Absolute Error:', mean_absolute_error(y_test, y_pred))\n",
        "print('Mean Squared Error:', mean_squared_error(y_test, y_pred))\n",
        "print('Root Mean Squared Error:', np.sqrt(mean_squared_error(y_test, y_pred)))"
      ],
      "metadata": {
        "colab": {
          "base_uri": "https://localhost:8080/"
        },
        "id": "WYdaxKJWLC3A",
        "outputId": "907c693d-6ba1-41c7-a19c-4826e7444254"
      },
      "execution_count": 36,
      "outputs": [
        {
          "output_type": "stream",
          "name": "stdout",
          "text": [
            "Coefficient of Determination: 0.7835868421662877\n",
            "Mean Absolute Error: 0.1471842784827566\n",
            "Mean Squared Error: 0.057725629629063795\n",
            "Root Mean Squared Error: 0.2402615858373198\n"
          ]
        }
      ]
    },
    {
      "cell_type": "code",
      "source": [
        "svr_pipe = Pipeline([('scl', StandardScaler()),('clf',SVR(kernel = 'rbf'))])\n",
        "\n",
        "svr_pipe.fit(X_train, y_train)\n",
        "\n",
        "y_pred = svr_pipe.predict(X_test)\n",
        "\n",
        "print('Coefficient of Determination:', svr_pipe.score(X_test, y_test))\n",
        "print('Mean Absolute Error:', mean_absolute_error(y_test, y_pred))\n",
        "print('Mean Squared Error:', mean_squared_error(y_test, y_pred))\n",
        "print('Root Mean Squared Error:', np.sqrt(mean_squared_error(y_test, y_pred)))"
      ],
      "metadata": {
        "colab": {
          "base_uri": "https://localhost:8080/"
        },
        "id": "p3pLrvexLcWD",
        "outputId": "8c5061e6-566c-4295-ac01-9691e3b92b1f"
      },
      "execution_count": 37,
      "outputs": [
        {
          "output_type": "stream",
          "name": "stdout",
          "text": [
            "Coefficient of Determination: 0.805166068169713\n",
            "Mean Absolute Error: 0.17142097865523204\n",
            "Mean Squared Error: 0.0519696283746819\n",
            "Root Mean Squared Error: 0.22796848109921228\n"
          ]
        }
      ]
    }
  ]
}