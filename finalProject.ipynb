{
  "nbformat": 4,
  "nbformat_minor": 0,
  "metadata": {
    "colab": {
      "name": "finalProject.ipynb",
      "provenance": [],
      "collapsed_sections": [],
      "include_colab_link": true
    },
    "kernelspec": {
      "name": "python3",
      "display_name": "Python 3"
    },
    "language_info": {
      "name": "python"
    }
  },
  "cells": [
    {
      "cell_type": "markdown",
      "metadata": {
        "id": "view-in-github",
        "colab_type": "text"
      },
      "source": [
        "<a href=\"https://colab.research.google.com/github/tracynguyen17/FinalProject/blob/main/finalProject.ipynb\" target=\"_parent\"><img src=\"https://colab.research.google.com/assets/colab-badge.svg\" alt=\"Open In Colab\"/></a>"
      ]
    },
    {
      "cell_type": "code",
      "execution_count": 1,
      "metadata": {
        "id": "DaFr0YFfTYjQ"
      },
      "outputs": [],
      "source": [
        "import pandas as pd\n",
        "import numpy as np\n",
        "import matplotlib.pyplot as plt\n",
        "import seaborn as sns"
      ]
    },
    {
      "cell_type": "code",
      "source": [
        "from google.colab import drive\n",
        "drive.mount('/content/drive', force_remount=True)\n",
        "\n",
        "import glob\n",
        "import os\n",
        "\n",
        "dir = '/content/drive/My Drive/ITCS 3162 Final Project'\n",
        "\n",
        "path = os.path.join(dir, 'Cleaned_Laptop_data.csv')\n",
        "\n",
        "df = pd.read_csv(path)"
      ],
      "metadata": {
        "id": "EjoIhFdf8Ke7",
        "outputId": "6fdaf6db-ebc3-419d-8e77-609b4e2a4d3c",
        "colab": {
          "base_uri": "https://localhost:8080/"
        }
      },
      "execution_count": 2,
      "outputs": [
        {
          "output_type": "stream",
          "name": "stdout",
          "text": [
            "Mounted at /content/drive\n"
          ]
        }
      ]
    },
    {
      "cell_type": "code",
      "source": [
        "df.shape"
      ],
      "metadata": {
        "colab": {
          "base_uri": "https://localhost:8080/"
        },
        "id": "FPcyoOwJeJYt",
        "outputId": "c653d026-48e5-4357-c867-476ecb476295"
      },
      "execution_count": 3,
      "outputs": [
        {
          "output_type": "execute_result",
          "data": {
            "text/plain": [
              "(896, 23)"
            ]
          },
          "metadata": {},
          "execution_count": 3
        }
      ]
    },
    {
      "cell_type": "code",
      "source": [
        "df.head()"
      ],
      "metadata": {
        "id": "SyRI8RkFA897",
        "colab": {
          "base_uri": "https://localhost:8080/",
          "height": 386
        },
        "outputId": "692a13a0-479c-4fd6-e6c8-000a9b7fef74"
      },
      "execution_count": 4,
      "outputs": [
        {
          "output_type": "execute_result",
          "data": {
            "text/plain": [
              "    brand    model processor_brand     processor_name processor_gnrtn  \\\n",
              "0  Lenovo  A6-9225             AMD  A6-9225 Processor            10th   \n",
              "1  Lenovo  Ideapad             AMD           APU Dual            10th   \n",
              "2   Avita     PURA             AMD           APU Dual            10th   \n",
              "3   Avita     PURA             AMD           APU Dual            10th   \n",
              "4   Avita     PURA             AMD           APU Dual            10th   \n",
              "\n",
              "    ram_gb ram_type     ssd      hdd       os  ... display_size  warranty  \\\n",
              "0  4 GB GB     DDR4    0 GB  1024 GB  Windows  ...      Missing         0   \n",
              "1  4 GB GB     DDR4    0 GB   512 GB  Windows  ...      Missing         0   \n",
              "2  4 GB GB     DDR4  128 GB     0 GB  Windows  ...      Missing         0   \n",
              "3  4 GB GB     DDR4  128 GB     0 GB  Windows  ...      Missing         0   \n",
              "4  4 GB GB     DDR4  256 GB     0 GB  Windows  ...      Missing         0   \n",
              "\n",
              "  Touchscreen msoffice  latest_price old_price discount  star_rating  ratings  \\\n",
              "0          No       No         24990     32790       23          3.7       63   \n",
              "1          No       No         19590     21325        8          3.6     1894   \n",
              "2          No       No         19990     27990       28          3.7     1153   \n",
              "3          No       No         21490     27990       23          3.7     1153   \n",
              "4          No       No         24990     33490       25          3.7     1657   \n",
              "\n",
              "   reviews  \n",
              "0       12  \n",
              "1      256  \n",
              "2      159  \n",
              "3      159  \n",
              "4      234  \n",
              "\n",
              "[5 rows x 23 columns]"
            ],
            "text/html": [
              "\n",
              "  <div id=\"df-17208381-7f4a-426e-a87b-42e68a57bfee\">\n",
              "    <div class=\"colab-df-container\">\n",
              "      <div>\n",
              "<style scoped>\n",
              "    .dataframe tbody tr th:only-of-type {\n",
              "        vertical-align: middle;\n",
              "    }\n",
              "\n",
              "    .dataframe tbody tr th {\n",
              "        vertical-align: top;\n",
              "    }\n",
              "\n",
              "    .dataframe thead th {\n",
              "        text-align: right;\n",
              "    }\n",
              "</style>\n",
              "<table border=\"1\" class=\"dataframe\">\n",
              "  <thead>\n",
              "    <tr style=\"text-align: right;\">\n",
              "      <th></th>\n",
              "      <th>brand</th>\n",
              "      <th>model</th>\n",
              "      <th>processor_brand</th>\n",
              "      <th>processor_name</th>\n",
              "      <th>processor_gnrtn</th>\n",
              "      <th>ram_gb</th>\n",
              "      <th>ram_type</th>\n",
              "      <th>ssd</th>\n",
              "      <th>hdd</th>\n",
              "      <th>os</th>\n",
              "      <th>...</th>\n",
              "      <th>display_size</th>\n",
              "      <th>warranty</th>\n",
              "      <th>Touchscreen</th>\n",
              "      <th>msoffice</th>\n",
              "      <th>latest_price</th>\n",
              "      <th>old_price</th>\n",
              "      <th>discount</th>\n",
              "      <th>star_rating</th>\n",
              "      <th>ratings</th>\n",
              "      <th>reviews</th>\n",
              "    </tr>\n",
              "  </thead>\n",
              "  <tbody>\n",
              "    <tr>\n",
              "      <th>0</th>\n",
              "      <td>Lenovo</td>\n",
              "      <td>A6-9225</td>\n",
              "      <td>AMD</td>\n",
              "      <td>A6-9225 Processor</td>\n",
              "      <td>10th</td>\n",
              "      <td>4 GB GB</td>\n",
              "      <td>DDR4</td>\n",
              "      <td>0 GB</td>\n",
              "      <td>1024 GB</td>\n",
              "      <td>Windows</td>\n",
              "      <td>...</td>\n",
              "      <td>Missing</td>\n",
              "      <td>0</td>\n",
              "      <td>No</td>\n",
              "      <td>No</td>\n",
              "      <td>24990</td>\n",
              "      <td>32790</td>\n",
              "      <td>23</td>\n",
              "      <td>3.7</td>\n",
              "      <td>63</td>\n",
              "      <td>12</td>\n",
              "    </tr>\n",
              "    <tr>\n",
              "      <th>1</th>\n",
              "      <td>Lenovo</td>\n",
              "      <td>Ideapad</td>\n",
              "      <td>AMD</td>\n",
              "      <td>APU Dual</td>\n",
              "      <td>10th</td>\n",
              "      <td>4 GB GB</td>\n",
              "      <td>DDR4</td>\n",
              "      <td>0 GB</td>\n",
              "      <td>512 GB</td>\n",
              "      <td>Windows</td>\n",
              "      <td>...</td>\n",
              "      <td>Missing</td>\n",
              "      <td>0</td>\n",
              "      <td>No</td>\n",
              "      <td>No</td>\n",
              "      <td>19590</td>\n",
              "      <td>21325</td>\n",
              "      <td>8</td>\n",
              "      <td>3.6</td>\n",
              "      <td>1894</td>\n",
              "      <td>256</td>\n",
              "    </tr>\n",
              "    <tr>\n",
              "      <th>2</th>\n",
              "      <td>Avita</td>\n",
              "      <td>PURA</td>\n",
              "      <td>AMD</td>\n",
              "      <td>APU Dual</td>\n",
              "      <td>10th</td>\n",
              "      <td>4 GB GB</td>\n",
              "      <td>DDR4</td>\n",
              "      <td>128 GB</td>\n",
              "      <td>0 GB</td>\n",
              "      <td>Windows</td>\n",
              "      <td>...</td>\n",
              "      <td>Missing</td>\n",
              "      <td>0</td>\n",
              "      <td>No</td>\n",
              "      <td>No</td>\n",
              "      <td>19990</td>\n",
              "      <td>27990</td>\n",
              "      <td>28</td>\n",
              "      <td>3.7</td>\n",
              "      <td>1153</td>\n",
              "      <td>159</td>\n",
              "    </tr>\n",
              "    <tr>\n",
              "      <th>3</th>\n",
              "      <td>Avita</td>\n",
              "      <td>PURA</td>\n",
              "      <td>AMD</td>\n",
              "      <td>APU Dual</td>\n",
              "      <td>10th</td>\n",
              "      <td>4 GB GB</td>\n",
              "      <td>DDR4</td>\n",
              "      <td>128 GB</td>\n",
              "      <td>0 GB</td>\n",
              "      <td>Windows</td>\n",
              "      <td>...</td>\n",
              "      <td>Missing</td>\n",
              "      <td>0</td>\n",
              "      <td>No</td>\n",
              "      <td>No</td>\n",
              "      <td>21490</td>\n",
              "      <td>27990</td>\n",
              "      <td>23</td>\n",
              "      <td>3.7</td>\n",
              "      <td>1153</td>\n",
              "      <td>159</td>\n",
              "    </tr>\n",
              "    <tr>\n",
              "      <th>4</th>\n",
              "      <td>Avita</td>\n",
              "      <td>PURA</td>\n",
              "      <td>AMD</td>\n",
              "      <td>APU Dual</td>\n",
              "      <td>10th</td>\n",
              "      <td>4 GB GB</td>\n",
              "      <td>DDR4</td>\n",
              "      <td>256 GB</td>\n",
              "      <td>0 GB</td>\n",
              "      <td>Windows</td>\n",
              "      <td>...</td>\n",
              "      <td>Missing</td>\n",
              "      <td>0</td>\n",
              "      <td>No</td>\n",
              "      <td>No</td>\n",
              "      <td>24990</td>\n",
              "      <td>33490</td>\n",
              "      <td>25</td>\n",
              "      <td>3.7</td>\n",
              "      <td>1657</td>\n",
              "      <td>234</td>\n",
              "    </tr>\n",
              "  </tbody>\n",
              "</table>\n",
              "<p>5 rows × 23 columns</p>\n",
              "</div>\n",
              "      <button class=\"colab-df-convert\" onclick=\"convertToInteractive('df-17208381-7f4a-426e-a87b-42e68a57bfee')\"\n",
              "              title=\"Convert this dataframe to an interactive table.\"\n",
              "              style=\"display:none;\">\n",
              "        \n",
              "  <svg xmlns=\"http://www.w3.org/2000/svg\" height=\"24px\"viewBox=\"0 0 24 24\"\n",
              "       width=\"24px\">\n",
              "    <path d=\"M0 0h24v24H0V0z\" fill=\"none\"/>\n",
              "    <path d=\"M18.56 5.44l.94 2.06.94-2.06 2.06-.94-2.06-.94-.94-2.06-.94 2.06-2.06.94zm-11 1L8.5 8.5l.94-2.06 2.06-.94-2.06-.94L8.5 2.5l-.94 2.06-2.06.94zm10 10l.94 2.06.94-2.06 2.06-.94-2.06-.94-.94-2.06-.94 2.06-2.06.94z\"/><path d=\"M17.41 7.96l-1.37-1.37c-.4-.4-.92-.59-1.43-.59-.52 0-1.04.2-1.43.59L10.3 9.45l-7.72 7.72c-.78.78-.78 2.05 0 2.83L4 21.41c.39.39.9.59 1.41.59.51 0 1.02-.2 1.41-.59l7.78-7.78 2.81-2.81c.8-.78.8-2.07 0-2.86zM5.41 20L4 18.59l7.72-7.72 1.47 1.35L5.41 20z\"/>\n",
              "  </svg>\n",
              "      </button>\n",
              "      \n",
              "  <style>\n",
              "    .colab-df-container {\n",
              "      display:flex;\n",
              "      flex-wrap:wrap;\n",
              "      gap: 12px;\n",
              "    }\n",
              "\n",
              "    .colab-df-convert {\n",
              "      background-color: #E8F0FE;\n",
              "      border: none;\n",
              "      border-radius: 50%;\n",
              "      cursor: pointer;\n",
              "      display: none;\n",
              "      fill: #1967D2;\n",
              "      height: 32px;\n",
              "      padding: 0 0 0 0;\n",
              "      width: 32px;\n",
              "    }\n",
              "\n",
              "    .colab-df-convert:hover {\n",
              "      background-color: #E2EBFA;\n",
              "      box-shadow: 0px 1px 2px rgba(60, 64, 67, 0.3), 0px 1px 3px 1px rgba(60, 64, 67, 0.15);\n",
              "      fill: #174EA6;\n",
              "    }\n",
              "\n",
              "    [theme=dark] .colab-df-convert {\n",
              "      background-color: #3B4455;\n",
              "      fill: #D2E3FC;\n",
              "    }\n",
              "\n",
              "    [theme=dark] .colab-df-convert:hover {\n",
              "      background-color: #434B5C;\n",
              "      box-shadow: 0px 1px 3px 1px rgba(0, 0, 0, 0.15);\n",
              "      filter: drop-shadow(0px 1px 2px rgba(0, 0, 0, 0.3));\n",
              "      fill: #FFFFFF;\n",
              "    }\n",
              "  </style>\n",
              "\n",
              "      <script>\n",
              "        const buttonEl =\n",
              "          document.querySelector('#df-17208381-7f4a-426e-a87b-42e68a57bfee button.colab-df-convert');\n",
              "        buttonEl.style.display =\n",
              "          google.colab.kernel.accessAllowed ? 'block' : 'none';\n",
              "\n",
              "        async function convertToInteractive(key) {\n",
              "          const element = document.querySelector('#df-17208381-7f4a-426e-a87b-42e68a57bfee');\n",
              "          const dataTable =\n",
              "            await google.colab.kernel.invokeFunction('convertToInteractive',\n",
              "                                                     [key], {});\n",
              "          if (!dataTable) return;\n",
              "\n",
              "          const docLinkHtml = 'Like what you see? Visit the ' +\n",
              "            '<a target=\"_blank\" href=https://colab.research.google.com/notebooks/data_table.ipynb>data table notebook</a>'\n",
              "            + ' to learn more about interactive tables.';\n",
              "          element.innerHTML = '';\n",
              "          dataTable['output_type'] = 'display_data';\n",
              "          await google.colab.output.renderOutput(dataTable, element);\n",
              "          const docLink = document.createElement('div');\n",
              "          docLink.innerHTML = docLinkHtml;\n",
              "          element.appendChild(docLink);\n",
              "        }\n",
              "      </script>\n",
              "    </div>\n",
              "  </div>\n",
              "  "
            ]
          },
          "metadata": {},
          "execution_count": 4
        }
      ]
    },
    {
      "cell_type": "code",
      "source": [
        "df.info()"
      ],
      "metadata": {
        "id": "8TKXZONLBe6G",
        "colab": {
          "base_uri": "https://localhost:8080/"
        },
        "outputId": "bd7cdf3e-f110-437c-f445-2ff1d2bbceaa"
      },
      "execution_count": 5,
      "outputs": [
        {
          "output_type": "stream",
          "name": "stdout",
          "text": [
            "<class 'pandas.core.frame.DataFrame'>\n",
            "RangeIndex: 896 entries, 0 to 895\n",
            "Data columns (total 23 columns):\n",
            " #   Column           Non-Null Count  Dtype  \n",
            "---  ------           --------------  -----  \n",
            " 0   brand            896 non-null    object \n",
            " 1   model            896 non-null    object \n",
            " 2   processor_brand  896 non-null    object \n",
            " 3   processor_name   896 non-null    object \n",
            " 4   processor_gnrtn  896 non-null    object \n",
            " 5   ram_gb           896 non-null    object \n",
            " 6   ram_type         896 non-null    object \n",
            " 7   ssd              896 non-null    object \n",
            " 8   hdd              896 non-null    object \n",
            " 9   os               896 non-null    object \n",
            " 10  os_bit           896 non-null    object \n",
            " 11  graphic_card_gb  896 non-null    int64  \n",
            " 12  weight           896 non-null    object \n",
            " 13  display_size     896 non-null    object \n",
            " 14  warranty         896 non-null    int64  \n",
            " 15  Touchscreen      896 non-null    object \n",
            " 16  msoffice         896 non-null    object \n",
            " 17  latest_price     896 non-null    int64  \n",
            " 18  old_price        896 non-null    int64  \n",
            " 19  discount         896 non-null    int64  \n",
            " 20  star_rating      896 non-null    float64\n",
            " 21  ratings          896 non-null    int64  \n",
            " 22  reviews          896 non-null    int64  \n",
            "dtypes: float64(1), int64(7), object(15)\n",
            "memory usage: 161.1+ KB\n"
          ]
        }
      ]
    },
    {
      "cell_type": "code",
      "source": [
        "df.isnull().sum()"
      ],
      "metadata": {
        "id": "QONceiDXBzY4",
        "colab": {
          "base_uri": "https://localhost:8080/"
        },
        "outputId": "bde3c73c-7f2d-44cd-aa12-bb5e58fadcfa"
      },
      "execution_count": 6,
      "outputs": [
        {
          "output_type": "execute_result",
          "data": {
            "text/plain": [
              "brand              0\n",
              "model              0\n",
              "processor_brand    0\n",
              "processor_name     0\n",
              "processor_gnrtn    0\n",
              "ram_gb             0\n",
              "ram_type           0\n",
              "ssd                0\n",
              "hdd                0\n",
              "os                 0\n",
              "os_bit             0\n",
              "graphic_card_gb    0\n",
              "weight             0\n",
              "display_size       0\n",
              "warranty           0\n",
              "Touchscreen        0\n",
              "msoffice           0\n",
              "latest_price       0\n",
              "old_price          0\n",
              "discount           0\n",
              "star_rating        0\n",
              "ratings            0\n",
              "reviews            0\n",
              "dtype: int64"
            ]
          },
          "metadata": {},
          "execution_count": 6
        }
      ]
    },
    {
      "cell_type": "code",
      "source": [
        "df['latest_price'] = (df['latest_price'] / 76.51)"
      ],
      "metadata": {
        "id": "OLeSuWCoDxxc"
      },
      "execution_count": 7,
      "outputs": []
    },
    {
      "cell_type": "code",
      "source": [
        "df['old_price'] = (df['old_price'] / 76.51)"
      ],
      "metadata": {
        "id": "iE9I3OH9EJ-q"
      },
      "execution_count": 8,
      "outputs": []
    },
    {
      "cell_type": "code",
      "source": [
        "df_prices = df[['latest_price','old_price']].copy()\n",
        "df_prices"
      ],
      "metadata": {
        "colab": {
          "base_uri": "https://localhost:8080/",
          "height": 423
        },
        "id": "JQ0hWwzZEBzE",
        "outputId": "936a9bf1-ec03-404f-dfef-a41e7fe0dd90"
      },
      "execution_count": 9,
      "outputs": [
        {
          "output_type": "execute_result",
          "data": {
            "text/plain": [
              "     latest_price    old_price\n",
              "0      326.623971   428.571429\n",
              "1      256.044961   278.721736\n",
              "2      261.273036   365.834531\n",
              "3      280.878317   365.834531\n",
              "4      326.623971   437.720559\n",
              "..            ...          ...\n",
              "891   1895.046399  2548.555744\n",
              "892   1960.397334     0.000000\n",
              "893   1868.906025     0.000000\n",
              "894    509.606587   627.238270\n",
              "895    751.405045  1024.702653\n",
              "\n",
              "[896 rows x 2 columns]"
            ],
            "text/html": [
              "\n",
              "  <div id=\"df-bea457ba-e014-44a2-aa92-f7aa21aeba52\">\n",
              "    <div class=\"colab-df-container\">\n",
              "      <div>\n",
              "<style scoped>\n",
              "    .dataframe tbody tr th:only-of-type {\n",
              "        vertical-align: middle;\n",
              "    }\n",
              "\n",
              "    .dataframe tbody tr th {\n",
              "        vertical-align: top;\n",
              "    }\n",
              "\n",
              "    .dataframe thead th {\n",
              "        text-align: right;\n",
              "    }\n",
              "</style>\n",
              "<table border=\"1\" class=\"dataframe\">\n",
              "  <thead>\n",
              "    <tr style=\"text-align: right;\">\n",
              "      <th></th>\n",
              "      <th>latest_price</th>\n",
              "      <th>old_price</th>\n",
              "    </tr>\n",
              "  </thead>\n",
              "  <tbody>\n",
              "    <tr>\n",
              "      <th>0</th>\n",
              "      <td>326.623971</td>\n",
              "      <td>428.571429</td>\n",
              "    </tr>\n",
              "    <tr>\n",
              "      <th>1</th>\n",
              "      <td>256.044961</td>\n",
              "      <td>278.721736</td>\n",
              "    </tr>\n",
              "    <tr>\n",
              "      <th>2</th>\n",
              "      <td>261.273036</td>\n",
              "      <td>365.834531</td>\n",
              "    </tr>\n",
              "    <tr>\n",
              "      <th>3</th>\n",
              "      <td>280.878317</td>\n",
              "      <td>365.834531</td>\n",
              "    </tr>\n",
              "    <tr>\n",
              "      <th>4</th>\n",
              "      <td>326.623971</td>\n",
              "      <td>437.720559</td>\n",
              "    </tr>\n",
              "    <tr>\n",
              "      <th>...</th>\n",
              "      <td>...</td>\n",
              "      <td>...</td>\n",
              "    </tr>\n",
              "    <tr>\n",
              "      <th>891</th>\n",
              "      <td>1895.046399</td>\n",
              "      <td>2548.555744</td>\n",
              "    </tr>\n",
              "    <tr>\n",
              "      <th>892</th>\n",
              "      <td>1960.397334</td>\n",
              "      <td>0.000000</td>\n",
              "    </tr>\n",
              "    <tr>\n",
              "      <th>893</th>\n",
              "      <td>1868.906025</td>\n",
              "      <td>0.000000</td>\n",
              "    </tr>\n",
              "    <tr>\n",
              "      <th>894</th>\n",
              "      <td>509.606587</td>\n",
              "      <td>627.238270</td>\n",
              "    </tr>\n",
              "    <tr>\n",
              "      <th>895</th>\n",
              "      <td>751.405045</td>\n",
              "      <td>1024.702653</td>\n",
              "    </tr>\n",
              "  </tbody>\n",
              "</table>\n",
              "<p>896 rows × 2 columns</p>\n",
              "</div>\n",
              "      <button class=\"colab-df-convert\" onclick=\"convertToInteractive('df-bea457ba-e014-44a2-aa92-f7aa21aeba52')\"\n",
              "              title=\"Convert this dataframe to an interactive table.\"\n",
              "              style=\"display:none;\">\n",
              "        \n",
              "  <svg xmlns=\"http://www.w3.org/2000/svg\" height=\"24px\"viewBox=\"0 0 24 24\"\n",
              "       width=\"24px\">\n",
              "    <path d=\"M0 0h24v24H0V0z\" fill=\"none\"/>\n",
              "    <path d=\"M18.56 5.44l.94 2.06.94-2.06 2.06-.94-2.06-.94-.94-2.06-.94 2.06-2.06.94zm-11 1L8.5 8.5l.94-2.06 2.06-.94-2.06-.94L8.5 2.5l-.94 2.06-2.06.94zm10 10l.94 2.06.94-2.06 2.06-.94-2.06-.94-.94-2.06-.94 2.06-2.06.94z\"/><path d=\"M17.41 7.96l-1.37-1.37c-.4-.4-.92-.59-1.43-.59-.52 0-1.04.2-1.43.59L10.3 9.45l-7.72 7.72c-.78.78-.78 2.05 0 2.83L4 21.41c.39.39.9.59 1.41.59.51 0 1.02-.2 1.41-.59l7.78-7.78 2.81-2.81c.8-.78.8-2.07 0-2.86zM5.41 20L4 18.59l7.72-7.72 1.47 1.35L5.41 20z\"/>\n",
              "  </svg>\n",
              "      </button>\n",
              "      \n",
              "  <style>\n",
              "    .colab-df-container {\n",
              "      display:flex;\n",
              "      flex-wrap:wrap;\n",
              "      gap: 12px;\n",
              "    }\n",
              "\n",
              "    .colab-df-convert {\n",
              "      background-color: #E8F0FE;\n",
              "      border: none;\n",
              "      border-radius: 50%;\n",
              "      cursor: pointer;\n",
              "      display: none;\n",
              "      fill: #1967D2;\n",
              "      height: 32px;\n",
              "      padding: 0 0 0 0;\n",
              "      width: 32px;\n",
              "    }\n",
              "\n",
              "    .colab-df-convert:hover {\n",
              "      background-color: #E2EBFA;\n",
              "      box-shadow: 0px 1px 2px rgba(60, 64, 67, 0.3), 0px 1px 3px 1px rgba(60, 64, 67, 0.15);\n",
              "      fill: #174EA6;\n",
              "    }\n",
              "\n",
              "    [theme=dark] .colab-df-convert {\n",
              "      background-color: #3B4455;\n",
              "      fill: #D2E3FC;\n",
              "    }\n",
              "\n",
              "    [theme=dark] .colab-df-convert:hover {\n",
              "      background-color: #434B5C;\n",
              "      box-shadow: 0px 1px 3px 1px rgba(0, 0, 0, 0.15);\n",
              "      filter: drop-shadow(0px 1px 2px rgba(0, 0, 0, 0.3));\n",
              "      fill: #FFFFFF;\n",
              "    }\n",
              "  </style>\n",
              "\n",
              "      <script>\n",
              "        const buttonEl =\n",
              "          document.querySelector('#df-bea457ba-e014-44a2-aa92-f7aa21aeba52 button.colab-df-convert');\n",
              "        buttonEl.style.display =\n",
              "          google.colab.kernel.accessAllowed ? 'block' : 'none';\n",
              "\n",
              "        async function convertToInteractive(key) {\n",
              "          const element = document.querySelector('#df-bea457ba-e014-44a2-aa92-f7aa21aeba52');\n",
              "          const dataTable =\n",
              "            await google.colab.kernel.invokeFunction('convertToInteractive',\n",
              "                                                     [key], {});\n",
              "          if (!dataTable) return;\n",
              "\n",
              "          const docLinkHtml = 'Like what you see? Visit the ' +\n",
              "            '<a target=\"_blank\" href=https://colab.research.google.com/notebooks/data_table.ipynb>data table notebook</a>'\n",
              "            + ' to learn more about interactive tables.';\n",
              "          element.innerHTML = '';\n",
              "          dataTable['output_type'] = 'display_data';\n",
              "          await google.colab.output.renderOutput(dataTable, element);\n",
              "          const docLink = document.createElement('div');\n",
              "          docLink.innerHTML = docLinkHtml;\n",
              "          element.appendChild(docLink);\n",
              "        }\n",
              "      </script>\n",
              "    </div>\n",
              "  </div>\n",
              "  "
            ]
          },
          "metadata": {},
          "execution_count": 9
        }
      ]
    },
    {
      "cell_type": "code",
      "source": [
        "df.columns[df.isin(['Missing']).any()]"
      ],
      "metadata": {
        "colab": {
          "base_uri": "https://localhost:8080/"
        },
        "id": "FVSTbf4OdVrK",
        "outputId": "bac4bc8e-4211-438d-abba-4f7f609a1be6"
      },
      "execution_count": 10,
      "outputs": [
        {
          "output_type": "execute_result",
          "data": {
            "text/plain": [
              "Index(['model', 'processor_gnrtn', 'display_size'], dtype='object')"
            ]
          },
          "metadata": {},
          "execution_count": 10
        }
      ]
    },
    {
      "cell_type": "code",
      "source": [
        "df['model'].value_counts()"
      ],
      "metadata": {
        "colab": {
          "base_uri": "https://localhost:8080/"
        },
        "id": "PuKo1wr5Z1B-",
        "outputId": "34182b60-5ded-49ff-81b4-3d1a93ee48c5"
      },
      "execution_count": 11,
      "outputs": [
        {
          "output_type": "execute_result",
          "data": {
            "text/plain": [
              "Missing     95\n",
              "VivoBook    89\n",
              "Inspiron    77\n",
              "Pavilion    38\n",
              "IdeaPad     37\n",
              "            ..\n",
              "B50-70       1\n",
              "GE76         1\n",
              "GP65         1\n",
              "GP76         1\n",
              "Thinkpad     1\n",
              "Name: model, Length: 117, dtype: int64"
            ]
          },
          "metadata": {},
          "execution_count": 11
        }
      ]
    },
    {
      "cell_type": "code",
      "source": [
        "df['processor_gnrtn'].value_counts()"
      ],
      "metadata": {
        "colab": {
          "base_uri": "https://localhost:8080/"
        },
        "id": "4al9LWyydvGx",
        "outputId": "edad4ccc-01d1-40dc-d9d4-ea82ea99923e"
      },
      "execution_count": 12,
      "outputs": [
        {
          "output_type": "execute_result",
          "data": {
            "text/plain": [
              "11th       346\n",
              "10th       246\n",
              "Missing    239\n",
              "8th         43\n",
              "7th         12\n",
              "9th          6\n",
              "12th         3\n",
              "4th          1\n",
              "Name: processor_gnrtn, dtype: int64"
            ]
          },
          "metadata": {},
          "execution_count": 12
        }
      ]
    },
    {
      "cell_type": "code",
      "source": [
        "df['display_size'].value_counts()"
      ],
      "metadata": {
        "colab": {
          "base_uri": "https://localhost:8080/"
        },
        "id": "jEUszGOndu25",
        "outputId": "c2cc4981-4af2-4661-e716-2f09378d6d26"
      },
      "execution_count": 13,
      "outputs": [
        {
          "output_type": "execute_result",
          "data": {
            "text/plain": [
              "Missing    332\n",
              "15.6       218\n",
              "16         135\n",
              "14         131\n",
              "13.3        40\n",
              "17.3         9\n",
              "14.96        7\n",
              "14.1         6\n",
              "13           4\n",
              "15           3\n",
              "14.2         3\n",
              "16.2         3\n",
              "12.2         2\n",
              "14.9         1\n",
              "16.1         1\n",
              "13.4         1\n",
              "Name: display_size, dtype: int64"
            ]
          },
          "metadata": {},
          "execution_count": 13
        }
      ]
    },
    {
      "cell_type": "code",
      "source": [
        "df['brand'].value_counts()"
      ],
      "metadata": {
        "colab": {
          "base_uri": "https://localhost:8080/"
        },
        "id": "9EHYXEA6vXEA",
        "outputId": "78670d5b-5582-48c8-888d-9a765635befc"
      },
      "execution_count": 14,
      "outputs": [
        {
          "output_type": "execute_result",
          "data": {
            "text/plain": [
              "ASUS         254\n",
              "DELL         154\n",
              "Lenovo       148\n",
              "HP           142\n",
              "acer          58\n",
              "MSI           52\n",
              "APPLE         28\n",
              "Avita         18\n",
              "Vaio           5\n",
              "LG             5\n",
              "Nokia          4\n",
              "ALIENWARE      4\n",
              "realme         4\n",
              "Infinix        4\n",
              "lenovo         3\n",
              "Smartron       3\n",
              "MICROSOFT      3\n",
              "RedmiBook      3\n",
              "Mi             2\n",
              "iball          1\n",
              "SAMSUNG        1\n",
              "Name: brand, dtype: int64"
            ]
          },
          "metadata": {},
          "execution_count": 14
        }
      ]
    },
    {
      "cell_type": "code",
      "source": [
        "sns.displot(df['latest_price'], kde=True);"
      ],
      "metadata": {
        "colab": {
          "base_uri": "https://localhost:8080/",
          "height": 369
        },
        "id": "Z9QPbhdtFLR3",
        "outputId": "cacf880c-fbf3-46b3-8219-7ada1b64595f"
      },
      "execution_count": 15,
      "outputs": [
        {
          "output_type": "display_data",
          "data": {
            "text/plain": [
              "<Figure size 360x360 with 1 Axes>"
            ],
            "image/png": "[encoded data removed]"
          },
          "metadata": {
            "needs_background": "light"
          }
        }
      ]
    },
    {
      "cell_type": "code",
      "source": [
        "df['brand'] = df['brand'].str.replace(\"lenovo\", \"Lenovo\")"
      ],
      "metadata": {
        "id": "bjMfX4F1v6DF"
      },
      "execution_count": 16,
      "outputs": []
    },
    {
      "cell_type": "code",
      "source": [
        "sns.countplot(data = df, x = 'brand', order = df['brand'].value_counts().index)\n",
        "plt.xticks(rotation=\"vertical\")"
      ],
      "metadata": {
        "id": "EYkgGgv4yGFt",
        "colab": {
          "base_uri": "https://localhost:8080/",
          "height": 363
        },
        "outputId": "094f695b-1abd-499d-ef6f-7f1b6b61350e"
      },
      "execution_count": 17,
      "outputs": [
        {
          "output_type": "execute_result",
          "data": {
            "text/plain": [
              "(array([ 0,  1,  2,  3,  4,  5,  6,  7,  8,  9, 10, 11, 12, 13, 14, 15, 16,\n",
              "        17, 18, 19]), <a list of 20 Text major ticklabel objects>)"
            ]
          },
          "metadata": {},
          "execution_count": 17
        },
        {
          "output_type": "display_data",
          "data": {
            "text/plain": [
              "<Figure size 432x288 with 1 Axes>"
            ],
            "image/png": "[encoded data removed]"
          },
          "metadata": {
            "needs_background": "light"
          }
        }
      ]
    },
    {
      "cell_type": "code",
      "source": [
        "result = df.groupby([\"brand\"])['latest_price'].median().reset_index().sort_values('latest_price', ascending=False)\n",
        "sns.barplot(data=df, x='brand', y=\"latest_price\", order=result['brand'])\n",
        "plt.xticks(rotation=\"vertical\")"
      ],
      "metadata": {
        "colab": {
          "base_uri": "https://localhost:8080/",
          "height": 363
        },
        "id": "j_Cqnbws-9Jz",
        "outputId": "14899db2-5f87-4554-f33b-cc51e3542c30"
      },
      "execution_count": 18,
      "outputs": [
        {
          "output_type": "execute_result",
          "data": {
            "text/plain": [
              "(array([ 0,  1,  2,  3,  4,  5,  6,  7,  8,  9, 10, 11, 12, 13, 14, 15, 16,\n",
              "        17, 18, 19]), <a list of 20 Text major ticklabel objects>)"
            ]
          },
          "metadata": {},
          "execution_count": 18
        },
        {
          "output_type": "display_data",
          "data": {
            "text/plain": [
              "<Figure size 432x288 with 1 Axes>"
            ],
            "image/png": "[encoded data removed]"
          },
          "metadata": {
            "needs_background": "light"
          }
        }
      ]
    },
    {
      "cell_type": "code",
      "source": [
        "categoricals = df.select_dtypes(include=['object'])\n",
        "categoricals"
      ],
      "metadata": {
        "colab": {
          "base_uri": "https://localhost:8080/",
          "height": 661
        },
        "id": "_sWwXVe6UhdW",
        "outputId": "38b8ae37-4643-4668-b7ff-f368ec08efb7"
      },
      "execution_count": 19,
      "outputs": [
        {
          "output_type": "execute_result",
          "data": {
            "text/plain": [
              "       brand     model processor_brand     processor_name processor_gnrtn  \\\n",
              "0     Lenovo   A6-9225             AMD  A6-9225 Processor            10th   \n",
              "1     Lenovo   Ideapad             AMD           APU Dual            10th   \n",
              "2      Avita      PURA             AMD           APU Dual            10th   \n",
              "3      Avita      PURA             AMD           APU Dual            10th   \n",
              "4      Avita      PURA             AMD           APU Dual            10th   \n",
              "..       ...       ...             ...                ...             ...   \n",
              "891     ASUS       ROG             AMD            Ryzen 9         Missing   \n",
              "892     ASUS     Ryzen             AMD            Ryzen 9         Missing   \n",
              "893     ASUS     Ryzen             AMD            Ryzen 9         Missing   \n",
              "894  SAMSUNG    Galaxy        Qualcomm      Snapdragon 7c         Missing   \n",
              "895   Lenovo  Thinkpad             AMD            Ryzen 5            10th   \n",
              "\n",
              "      ram_gb ram_type      ssd      hdd       os  os_bit      weight  \\\n",
              "0    4 GB GB     DDR4     0 GB  1024 GB  Windows  64-bit  ThinNlight   \n",
              "1    4 GB GB     DDR4     0 GB   512 GB  Windows  64-bit      Casual   \n",
              "2    4 GB GB     DDR4   128 GB     0 GB  Windows  64-bit  ThinNlight   \n",
              "3    4 GB GB     DDR4   128 GB     0 GB  Windows  64-bit  ThinNlight   \n",
              "4    4 GB GB     DDR4   256 GB     0 GB  Windows  64-bit  ThinNlight   \n",
              "..       ...      ...      ...      ...      ...     ...         ...   \n",
              "891  4 GB GB     DDR4  1024 GB     0 GB  Windows  64-bit      Casual   \n",
              "892  4 GB GB     DDR4  1024 GB     0 GB  Windows  64-bit      Casual   \n",
              "893  4 GB GB     DDR4  1024 GB     0 GB  Windows  64-bit      Casual   \n",
              "894  4 GB GB  LPDDR4X     0 GB   512 GB  Windows  32-bit      Casual   \n",
              "895  8 GB GB     DDR4   512 GB     0 GB      DOS  64-bit  ThinNlight   \n",
              "\n",
              "    display_size Touchscreen msoffice  \n",
              "0        Missing          No       No  \n",
              "1        Missing          No       No  \n",
              "2        Missing          No       No  \n",
              "3        Missing          No       No  \n",
              "4        Missing          No       No  \n",
              "..           ...         ...      ...  \n",
              "891           16          No       No  \n",
              "892      Missing          No       No  \n",
              "893           16          No       No  \n",
              "894      Missing          No       No  \n",
              "895           14          No       No  \n",
              "\n",
              "[896 rows x 15 columns]"
            ],
            "text/html": [
              "\n",
              "  <div id=\"df-db8be936-70b9-4406-aa02-f928bfe4a84c\">\n",
              "    <div class=\"colab-df-container\">\n",
              "      <div>\n",
              "<style scoped>\n",
              "    .dataframe tbody tr th:only-of-type {\n",
              "        vertical-align: middle;\n",
              "    }\n",
              "\n",
              "    .dataframe tbody tr th {\n",
              "        vertical-align: top;\n",
              "    }\n",
              "\n",
              "    .dataframe thead th {\n",
              "        text-align: right;\n",
              "    }\n",
              "</style>\n",
              "<table border=\"1\" class=\"dataframe\">\n",
              "  <thead>\n",
              "    <tr style=\"text-align: right;\">\n",
              "      <th></th>\n",
              "      <th>brand</th>\n",
              "      <th>model</th>\n",
              "      <th>processor_brand</th>\n",
              "      <th>processor_name</th>\n",
              "      <th>processor_gnrtn</th>\n",
              "      <th>ram_gb</th>\n",
              "      <th>ram_type</th>\n",
              "      <th>ssd</th>\n",
              "      <th>hdd</th>\n",
              "      <th>os</th>\n",
              "      <th>os_bit</th>\n",
              "      <th>weight</th>\n",
              "      <th>display_size</th>\n",
              "      <th>Touchscreen</th>\n",
              "      <th>msoffice</th>\n",
              "    </tr>\n",
              "  </thead>\n",
              "  <tbody>\n",
              "    <tr>\n",
              "      <th>0</th>\n",
              "      <td>Lenovo</td>\n",
              "      <td>A6-9225</td>\n",
              "      <td>AMD</td>\n",
              "      <td>A6-9225 Processor</td>\n",
              "      <td>10th</td>\n",
              "      <td>4 GB GB</td>\n",
              "      <td>DDR4</td>\n",
              "      <td>0 GB</td>\n",
              "      <td>1024 GB</td>\n",
              "      <td>Windows</td>\n",
              "      <td>64-bit</td>\n",
              "      <td>ThinNlight</td>\n",
              "      <td>Missing</td>\n",
              "      <td>No</td>\n",
              "      <td>No</td>\n",
              "    </tr>\n",
              "    <tr>\n",
              "      <th>1</th>\n",
              "      <td>Lenovo</td>\n",
              "      <td>Ideapad</td>\n",
              "      <td>AMD</td>\n",
              "      <td>APU Dual</td>\n",
              "      <td>10th</td>\n",
              "      <td>4 GB GB</td>\n",
              "      <td>DDR4</td>\n",
              "      <td>0 GB</td>\n",
              "      <td>512 GB</td>\n",
              "      <td>Windows</td>\n",
              "      <td>64-bit</td>\n",
              "      <td>Casual</td>\n",
              "      <td>Missing</td>\n",
              "      <td>No</td>\n",
              "      <td>No</td>\n",
              "    </tr>\n",
              "    <tr>\n",
              "      <th>2</th>\n",
              "      <td>Avita</td>\n",
              "      <td>PURA</td>\n",
              "      <td>AMD</td>\n",
              "      <td>APU Dual</td>\n",
              "      <td>10th</td>\n",
              "      <td>4 GB GB</td>\n",
              "      <td>DDR4</td>\n",
              "      <td>128 GB</td>\n",
              "      <td>0 GB</td>\n",
              "      <td>Windows</td>\n",
              "      <td>64-bit</td>\n",
              "      <td>ThinNlight</td>\n",
              "      <td>Missing</td>\n",
              "      <td>No</td>\n",
              "      <td>No</td>\n",
              "    </tr>\n",
              "    <tr>\n",
              "      <th>3</th>\n",
              "      <td>Avita</td>\n",
              "      <td>PURA</td>\n",
              "      <td>AMD</td>\n",
              "      <td>APU Dual</td>\n",
              "      <td>10th</td>\n",
              "      <td>4 GB GB</td>\n",
              "      <td>DDR4</td>\n",
              "      <td>128 GB</td>\n",
              "      <td>0 GB</td>\n",
              "      <td>Windows</td>\n",
              "      <td>64-bit</td>\n",
              "      <td>ThinNlight</td>\n",
              "      <td>Missing</td>\n",
              "      <td>No</td>\n",
              "      <td>No</td>\n",
              "    </tr>\n",
              "    <tr>\n",
              "      <th>4</th>\n",
              "      <td>Avita</td>\n",
              "      <td>PURA</td>\n",
              "      <td>AMD</td>\n",
              "      <td>APU Dual</td>\n",
              "      <td>10th</td>\n",
              "      <td>4 GB GB</td>\n",
              "      <td>DDR4</td>\n",
              "      <td>256 GB</td>\n",
              "      <td>0 GB</td>\n",
              "      <td>Windows</td>\n",
              "      <td>64-bit</td>\n",
              "      <td>ThinNlight</td>\n",
              "      <td>Missing</td>\n",
              "      <td>No</td>\n",
              "      <td>No</td>\n",
              "    </tr>\n",
              "    <tr>\n",
              "      <th>...</th>\n",
              "      <td>...</td>\n",
              "      <td>...</td>\n",
              "      <td>...</td>\n",
              "      <td>...</td>\n",
              "      <td>...</td>\n",
              "      <td>...</td>\n",
              "      <td>...</td>\n",
              "      <td>...</td>\n",
              "      <td>...</td>\n",
              "      <td>...</td>\n",
              "      <td>...</td>\n",
              "      <td>...</td>\n",
              "      <td>...</td>\n",
              "      <td>...</td>\n",
              "      <td>...</td>\n",
              "    </tr>\n",
              "    <tr>\n",
              "      <th>891</th>\n",
              "      <td>ASUS</td>\n",
              "      <td>ROG</td>\n",
              "      <td>AMD</td>\n",
              "      <td>Ryzen 9</td>\n",
              "      <td>Missing</td>\n",
              "      <td>4 GB GB</td>\n",
              "      <td>DDR4</td>\n",
              "      <td>1024 GB</td>\n",
              "      <td>0 GB</td>\n",
              "      <td>Windows</td>\n",
              "      <td>64-bit</td>\n",
              "      <td>Casual</td>\n",
              "      <td>16</td>\n",
              "      <td>No</td>\n",
              "      <td>No</td>\n",
              "    </tr>\n",
              "    <tr>\n",
              "      <th>892</th>\n",
              "      <td>ASUS</td>\n",
              "      <td>Ryzen</td>\n",
              "      <td>AMD</td>\n",
              "      <td>Ryzen 9</td>\n",
              "      <td>Missing</td>\n",
              "      <td>4 GB GB</td>\n",
              "      <td>DDR4</td>\n",
              "      <td>1024 GB</td>\n",
              "      <td>0 GB</td>\n",
              "      <td>Windows</td>\n",
              "      <td>64-bit</td>\n",
              "      <td>Casual</td>\n",
              "      <td>Missing</td>\n",
              "      <td>No</td>\n",
              "      <td>No</td>\n",
              "    </tr>\n",
              "    <tr>\n",
              "      <th>893</th>\n",
              "      <td>ASUS</td>\n",
              "      <td>Ryzen</td>\n",
              "      <td>AMD</td>\n",
              "      <td>Ryzen 9</td>\n",
              "      <td>Missing</td>\n",
              "      <td>4 GB GB</td>\n",
              "      <td>DDR4</td>\n",
              "      <td>1024 GB</td>\n",
              "      <td>0 GB</td>\n",
              "      <td>Windows</td>\n",
              "      <td>64-bit</td>\n",
              "      <td>Casual</td>\n",
              "      <td>16</td>\n",
              "      <td>No</td>\n",
              "      <td>No</td>\n",
              "    </tr>\n",
              "    <tr>\n",
              "      <th>894</th>\n",
              "      <td>SAMSUNG</td>\n",
              "      <td>Galaxy</td>\n",
              "      <td>Qualcomm</td>\n",
              "      <td>Snapdragon 7c</td>\n",
              "      <td>Missing</td>\n",
              "      <td>4 GB GB</td>\n",
              "      <td>LPDDR4X</td>\n",
              "      <td>0 GB</td>\n",
              "      <td>512 GB</td>\n",
              "      <td>Windows</td>\n",
              "      <td>32-bit</td>\n",
              "      <td>Casual</td>\n",
              "      <td>Missing</td>\n",
              "      <td>No</td>\n",
              "      <td>No</td>\n",
              "    </tr>\n",
              "    <tr>\n",
              "      <th>895</th>\n",
              "      <td>Lenovo</td>\n",
              "      <td>Thinkpad</td>\n",
              "      <td>AMD</td>\n",
              "      <td>Ryzen 5</td>\n",
              "      <td>10th</td>\n",
              "      <td>8 GB GB</td>\n",
              "      <td>DDR4</td>\n",
              "      <td>512 GB</td>\n",
              "      <td>0 GB</td>\n",
              "      <td>DOS</td>\n",
              "      <td>64-bit</td>\n",
              "      <td>ThinNlight</td>\n",
              "      <td>14</td>\n",
              "      <td>No</td>\n",
              "      <td>No</td>\n",
              "    </tr>\n",
              "  </tbody>\n",
              "</table>\n",
              "<p>896 rows × 15 columns</p>\n",
              "</div>\n",
              "      <button class=\"colab-df-convert\" onclick=\"convertToInteractive('df-db8be936-70b9-4406-aa02-f928bfe4a84c')\"\n",
              "              title=\"Convert this dataframe to an interactive table.\"\n",
              "              style=\"display:none;\">\n",
              "        \n",
              "  <svg xmlns=\"http://www.w3.org/2000/svg\" height=\"24px\"viewBox=\"0 0 24 24\"\n",
              "       width=\"24px\">\n",
              "    <path d=\"M0 0h24v24H0V0z\" fill=\"none\"/>\n",
              "    <path d=\"M18.56 5.44l.94 2.06.94-2.06 2.06-.94-2.06-.94-.94-2.06-.94 2.06-2.06.94zm-11 1L8.5 8.5l.94-2.06 2.06-.94-2.06-.94L8.5 2.5l-.94 2.06-2.06.94zm10 10l.94 2.06.94-2.06 2.06-.94-2.06-.94-.94-2.06-.94 2.06-2.06.94z\"/><path d=\"M17.41 7.96l-1.37-1.37c-.4-.4-.92-.59-1.43-.59-.52 0-1.04.2-1.43.59L10.3 9.45l-7.72 7.72c-.78.78-.78 2.05 0 2.83L4 21.41c.39.39.9.59 1.41.59.51 0 1.02-.2 1.41-.59l7.78-7.78 2.81-2.81c.8-.78.8-2.07 0-2.86zM5.41 20L4 18.59l7.72-7.72 1.47 1.35L5.41 20z\"/>\n",
              "  </svg>\n",
              "      </button>\n",
              "      \n",
              "  <style>\n",
              "    .colab-df-container {\n",
              "      display:flex;\n",
              "      flex-wrap:wrap;\n",
              "      gap: 12px;\n",
              "    }\n",
              "\n",
              "    .colab-df-convert {\n",
              "      background-color: #E8F0FE;\n",
              "      border: none;\n",
              "      border-radius: 50%;\n",
              "      cursor: pointer;\n",
              "      display: none;\n",
              "      fill: #1967D2;\n",
              "      height: 32px;\n",
              "      padding: 0 0 0 0;\n",
              "      width: 32px;\n",
              "    }\n",
              "\n",
              "    .colab-df-convert:hover {\n",
              "      background-color: #E2EBFA;\n",
              "      box-shadow: 0px 1px 2px rgba(60, 64, 67, 0.3), 0px 1px 3px 1px rgba(60, 64, 67, 0.15);\n",
              "      fill: #174EA6;\n",
              "    }\n",
              "\n",
              "    [theme=dark] .colab-df-convert {\n",
              "      background-color: #3B4455;\n",
              "      fill: #D2E3FC;\n",
              "    }\n",
              "\n",
              "    [theme=dark] .colab-df-convert:hover {\n",
              "      background-color: #434B5C;\n",
              "      box-shadow: 0px 1px 3px 1px rgba(0, 0, 0, 0.15);\n",
              "      filter: drop-shadow(0px 1px 2px rgba(0, 0, 0, 0.3));\n",
              "      fill: #FFFFFF;\n",
              "    }\n",
              "  </style>\n",
              "\n",
              "      <script>\n",
              "        const buttonEl =\n",
              "          document.querySelector('#df-db8be936-70b9-4406-aa02-f928bfe4a84c button.colab-df-convert');\n",
              "        buttonEl.style.display =\n",
              "          google.colab.kernel.accessAllowed ? 'block' : 'none';\n",
              "\n",
              "        async function convertToInteractive(key) {\n",
              "          const element = document.querySelector('#df-db8be936-70b9-4406-aa02-f928bfe4a84c');\n",
              "          const dataTable =\n",
              "            await google.colab.kernel.invokeFunction('convertToInteractive',\n",
              "                                                     [key], {});\n",
              "          if (!dataTable) return;\n",
              "\n",
              "          const docLinkHtml = 'Like what you see? Visit the ' +\n",
              "            '<a target=\"_blank\" href=https://colab.research.google.com/notebooks/data_table.ipynb>data table notebook</a>'\n",
              "            + ' to learn more about interactive tables.';\n",
              "          element.innerHTML = '';\n",
              "          dataTable['output_type'] = 'display_data';\n",
              "          await google.colab.output.renderOutput(dataTable, element);\n",
              "          const docLink = document.createElement('div');\n",
              "          docLink.innerHTML = docLinkHtml;\n",
              "          element.appendChild(docLink);\n",
              "        }\n",
              "      </script>\n",
              "    </div>\n",
              "  </div>\n",
              "  "
            ]
          },
          "metadata": {},
          "execution_count": 19
        }
      ]
    },
    {
      "cell_type": "code",
      "source": [
        "categoricals.info()"
      ],
      "metadata": {
        "colab": {
          "base_uri": "https://localhost:8080/"
        },
        "id": "c1ZV1JenVsXa",
        "outputId": "f637eb0c-2617-481e-c65e-1906e2f31abc"
      },
      "execution_count": 20,
      "outputs": [
        {
          "output_type": "stream",
          "name": "stdout",
          "text": [
            "<class 'pandas.core.frame.DataFrame'>\n",
            "RangeIndex: 896 entries, 0 to 895\n",
            "Data columns (total 15 columns):\n",
            " #   Column           Non-Null Count  Dtype \n",
            "---  ------           --------------  ----- \n",
            " 0   brand            896 non-null    object\n",
            " 1   model            896 non-null    object\n",
            " 2   processor_brand  896 non-null    object\n",
            " 3   processor_name   896 non-null    object\n",
            " 4   processor_gnrtn  896 non-null    object\n",
            " 5   ram_gb           896 non-null    object\n",
            " 6   ram_type         896 non-null    object\n",
            " 7   ssd              896 non-null    object\n",
            " 8   hdd              896 non-null    object\n",
            " 9   os               896 non-null    object\n",
            " 10  os_bit           896 non-null    object\n",
            " 11  weight           896 non-null    object\n",
            " 12  display_size     896 non-null    object\n",
            " 13  Touchscreen      896 non-null    object\n",
            " 14  msoffice         896 non-null    object\n",
            "dtypes: object(15)\n",
            "memory usage: 105.1+ KB\n"
          ]
        }
      ]
    },
    {
      "cell_type": "code",
      "source": [
        "df['ram_gb'] = df['ram_gb'].str.replace(\"GB GB\", \"\")\n",
        "df['ssd'] = df['ssd'].str.replace(\"GB\", \"\")\n",
        "df['hdd'] = df['hdd'].str.replace(\"GB\", \"\")\n",
        "df['os_bit'] = df['os_bit'].str.replace(\"-bit\", \"\")\n",
        "\n",
        "df['ram_gb'] = df['ram_gb'].astype('int64')\n",
        "df['ssd'] = df['ssd'].astype('int64')\n",
        "df['hdd'] = df['hdd'].astype('int64')\n",
        "df['os_bit'] = df['os_bit'].astype('int64')"
      ],
      "metadata": {
        "id": "o4fTe--lVDWE"
      },
      "execution_count": 21,
      "outputs": []
    },
    {
      "cell_type": "code",
      "source": [
        "from sklearn import preprocessing\n",
        "\n",
        "le = preprocessing.LabelEncoder()\n",
        "\n",
        "df.brand = le.fit_transform(df.brand)\n",
        "df.model = le.fit_transform(df.model)\n",
        "df.processor_brand  = le.fit_transform(df.processor_brand )\n",
        "df.processor_name = le.fit_transform(df.processor_name)\n",
        "df.processor_gnrtn  = le.fit_transform(df.processor_gnrtn )\n",
        "df.ram_type = le.fit_transform(df.ram_type)\n",
        "df.os = le.fit_transform(df.os)\n",
        "df.weight = le.fit_transform(df.weight)\n",
        "df.display_size = le.fit_transform(df.display_size)\n",
        "df.Touchscreen = le.fit_transform(df.Touchscreen)\n",
        "df.msoffice = le.fit_transform(df.msoffice)\n",
        "\n",
        "df"
      ],
      "metadata": {
        "colab": {
          "base_uri": "https://localhost:8080/",
          "height": 487
        },
        "id": "d9ox_y_I0lLZ",
        "outputId": "fad73ca5-72ff-44b5-b6d9-e407d41c8bd3"
      },
      "execution_count": 22,
      "outputs": [
        {
          "output_type": "execute_result",
          "data": {
            "text/plain": [
              "     brand  model  processor_brand  processor_name  processor_gnrtn  ram_gb  \\\n",
              "0        8     11                0               0                0       4   \n",
              "1        8     59                0               1                0       4   \n",
              "2        3     75                0               1                0       4   \n",
              "3        3     75                0               1                0       4   \n",
              "4        3     75                0               1                0       4   \n",
              "..     ...    ...              ...             ...              ...     ...   \n",
              "891      2     83                0              26                7       4   \n",
              "892      2     85                0              26                7       4   \n",
              "893      2     85                0              26                7       4   \n",
              "894     14     52                4              27                7       4   \n",
              "895      8     98                0              24                0       8   \n",
              "\n",
              "     ram_type   ssd   hdd  os  ...  display_size  warranty  Touchscreen  \\\n",
              "0           1     0  1024   2  ...            15         0            0   \n",
              "1           1     0   512   2  ...            15         0            0   \n",
              "2           1   128     0   2  ...            15         0            0   \n",
              "3           1   128     0   2  ...            15         0            0   \n",
              "4           1   256     0   2  ...            15         0            0   \n",
              "..        ...   ...   ...  ..  ...           ...       ...          ...   \n",
              "891         1  1024     0   2  ...            11         1            0   \n",
              "892         1  1024     0   2  ...            15         1            0   \n",
              "893         1  1024     0   2  ...            11         1            0   \n",
              "894         5     0   512   2  ...            15         0            0   \n",
              "895         1   512     0   0  ...             4         0            0   \n",
              "\n",
              "     msoffice  latest_price    old_price  discount  star_rating  ratings  \\\n",
              "0           0    326.623971   428.571429        23          3.7       63   \n",
              "1           0    256.044961   278.721736         8          3.6     1894   \n",
              "2           0    261.273036   365.834531        28          3.7     1153   \n",
              "3           0    280.878317   365.834531        23          3.7     1153   \n",
              "4           0    326.623971   437.720559        25          3.7     1657   \n",
              "..        ...           ...          ...       ...          ...      ...   \n",
              "891         0   1895.046399  2548.555744        25          0.0        0   \n",
              "892         0   1960.397334     0.000000         0          0.0        0   \n",
              "893         0   1868.906025     0.000000         0          0.0        0   \n",
              "894         0    509.606587   627.238270        18          0.0        0   \n",
              "895         0    751.405045  1024.702653        26          4.2       18   \n",
              "\n",
              "     reviews  \n",
              "0         12  \n",
              "1        256  \n",
              "2        159  \n",
              "3        159  \n",
              "4        234  \n",
              "..       ...  \n",
              "891        0  \n",
              "892        0  \n",
              "893        0  \n",
              "894        0  \n",
              "895        4  \n",
              "\n",
              "[896 rows x 23 columns]"
            ],
            "text/html": [
              "\n",
              "  <div id=\"df-82e73238-87b3-4232-a1b2-6b20c1e886c2\">\n",
              "    <div class=\"colab-df-container\">\n",
              "      <div>\n",
              "<style scoped>\n",
              "    .dataframe tbody tr th:only-of-type {\n",
              "        vertical-align: middle;\n",
              "    }\n",
              "\n",
              "    .dataframe tbody tr th {\n",
              "        vertical-align: top;\n",
              "    }\n",
              "\n",
              "    .dataframe thead th {\n",
              "        text-align: right;\n",
              "    }\n",
              "</style>\n",
              "<table border=\"1\" class=\"dataframe\">\n",
              "  <thead>\n",
              "    <tr style=\"text-align: right;\">\n",
              "      <th></th>\n",
              "      <th>brand</th>\n",
              "      <th>model</th>\n",
              "      <th>processor_brand</th>\n",
              "      <th>processor_name</th>\n",
              "      <th>processor_gnrtn</th>\n",
              "      <th>ram_gb</th>\n",
              "      <th>ram_type</th>\n",
              "      <th>ssd</th>\n",
              "      <th>hdd</th>\n",
              "      <th>os</th>\n",
              "      <th>...</th>\n",
              "      <th>display_size</th>\n",
              "      <th>warranty</th>\n",
              "      <th>Touchscreen</th>\n",
              "      <th>msoffice</th>\n",
              "      <th>latest_price</th>\n",
              "      <th>old_price</th>\n",
              "      <th>discount</th>\n",
              "      <th>star_rating</th>\n",
              "      <th>ratings</th>\n",
              "      <th>reviews</th>\n",
              "    </tr>\n",
              "  </thead>\n",
              "  <tbody>\n",
              "    <tr>\n",
              "      <th>0</th>\n",
              "      <td>8</td>\n",
              "      <td>11</td>\n",
              "      <td>0</td>\n",
              "      <td>0</td>\n",
              "      <td>0</td>\n",
              "      <td>4</td>\n",
              "      <td>1</td>\n",
              "      <td>0</td>\n",
              "      <td>1024</td>\n",
              "      <td>2</td>\n",
              "      <td>...</td>\n",
              "      <td>15</td>\n",
              "      <td>0</td>\n",
              "      <td>0</td>\n",
              "      <td>0</td>\n",
              "      <td>326.623971</td>\n",
              "      <td>428.571429</td>\n",
              "      <td>23</td>\n",
              "      <td>3.7</td>\n",
              "      <td>63</td>\n",
              "      <td>12</td>\n",
              "    </tr>\n",
              "    <tr>\n",
              "      <th>1</th>\n",
              "      <td>8</td>\n",
              "      <td>59</td>\n",
              "      <td>0</td>\n",
              "      <td>1</td>\n",
              "      <td>0</td>\n",
              "      <td>4</td>\n",
              "      <td>1</td>\n",
              "      <td>0</td>\n",
              "      <td>512</td>\n",
              "      <td>2</td>\n",
              "      <td>...</td>\n",
              "      <td>15</td>\n",
              "      <td>0</td>\n",
              "      <td>0</td>\n",
              "      <td>0</td>\n",
              "      <td>256.044961</td>\n",
              "      <td>278.721736</td>\n",
              "      <td>8</td>\n",
              "      <td>3.6</td>\n",
              "      <td>1894</td>\n",
              "      <td>256</td>\n",
              "    </tr>\n",
              "    <tr>\n",
              "      <th>2</th>\n",
              "      <td>3</td>\n",
              "      <td>75</td>\n",
              "      <td>0</td>\n",
              "      <td>1</td>\n",
              "      <td>0</td>\n",
              "      <td>4</td>\n",
              "      <td>1</td>\n",
              "      <td>128</td>\n",
              "      <td>0</td>\n",
              "      <td>2</td>\n",
              "      <td>...</td>\n",
              "      <td>15</td>\n",
              "      <td>0</td>\n",
              "      <td>0</td>\n",
              "      <td>0</td>\n",
              "      <td>261.273036</td>\n",
              "      <td>365.834531</td>\n",
              "      <td>28</td>\n",
              "      <td>3.7</td>\n",
              "      <td>1153</td>\n",
              "      <td>159</td>\n",
              "    </tr>\n",
              "    <tr>\n",
              "      <th>3</th>\n",
              "      <td>3</td>\n",
              "      <td>75</td>\n",
              "      <td>0</td>\n",
              "      <td>1</td>\n",
              "      <td>0</td>\n",
              "      <td>4</td>\n",
              "      <td>1</td>\n",
              "      <td>128</td>\n",
              "      <td>0</td>\n",
              "      <td>2</td>\n",
              "      <td>...</td>\n",
              "      <td>15</td>\n",
              "      <td>0</td>\n",
              "      <td>0</td>\n",
              "      <td>0</td>\n",
              "      <td>280.878317</td>\n",
              "      <td>365.834531</td>\n",
              "      <td>23</td>\n",
              "      <td>3.7</td>\n",
              "      <td>1153</td>\n",
              "      <td>159</td>\n",
              "    </tr>\n",
              "    <tr>\n",
              "      <th>4</th>\n",
              "      <td>3</td>\n",
              "      <td>75</td>\n",
              "      <td>0</td>\n",
              "      <td>1</td>\n",
              "      <td>0</td>\n",
              "      <td>4</td>\n",
              "      <td>1</td>\n",
              "      <td>256</td>\n",
              "      <td>0</td>\n",
              "      <td>2</td>\n",
              "      <td>...</td>\n",
              "      <td>15</td>\n",
              "      <td>0</td>\n",
              "      <td>0</td>\n",
              "      <td>0</td>\n",
              "      <td>326.623971</td>\n",
              "      <td>437.720559</td>\n",
              "      <td>25</td>\n",
              "      <td>3.7</td>\n",
              "      <td>1657</td>\n",
              "      <td>234</td>\n",
              "    </tr>\n",
              "    <tr>\n",
              "      <th>...</th>\n",
              "      <td>...</td>\n",
              "      <td>...</td>\n",
              "      <td>...</td>\n",
              "      <td>...</td>\n",
              "      <td>...</td>\n",
              "      <td>...</td>\n",
              "      <td>...</td>\n",
              "      <td>...</td>\n",
              "      <td>...</td>\n",
              "      <td>...</td>\n",
              "      <td>...</td>\n",
              "      <td>...</td>\n",
              "      <td>...</td>\n",
              "      <td>...</td>\n",
              "      <td>...</td>\n",
              "      <td>...</td>\n",
              "      <td>...</td>\n",
              "      <td>...</td>\n",
              "      <td>...</td>\n",
              "      <td>...</td>\n",
              "      <td>...</td>\n",
              "    </tr>\n",
              "    <tr>\n",
              "      <th>891</th>\n",
              "      <td>2</td>\n",
              "      <td>83</td>\n",
              "      <td>0</td>\n",
              "      <td>26</td>\n",
              "      <td>7</td>\n",
              "      <td>4</td>\n",
              "      <td>1</td>\n",
              "      <td>1024</td>\n",
              "      <td>0</td>\n",
              "      <td>2</td>\n",
              "      <td>...</td>\n",
              "      <td>11</td>\n",
              "      <td>1</td>\n",
              "      <td>0</td>\n",
              "      <td>0</td>\n",
              "      <td>1895.046399</td>\n",
              "      <td>2548.555744</td>\n",
              "      <td>25</td>\n",
              "      <td>0.0</td>\n",
              "      <td>0</td>\n",
              "      <td>0</td>\n",
              "    </tr>\n",
              "    <tr>\n",
              "      <th>892</th>\n",
              "      <td>2</td>\n",
              "      <td>85</td>\n",
              "      <td>0</td>\n",
              "      <td>26</td>\n",
              "      <td>7</td>\n",
              "      <td>4</td>\n",
              "      <td>1</td>\n",
              "      <td>1024</td>\n",
              "      <td>0</td>\n",
              "      <td>2</td>\n",
              "      <td>...</td>\n",
              "      <td>15</td>\n",
              "      <td>1</td>\n",
              "      <td>0</td>\n",
              "      <td>0</td>\n",
              "      <td>1960.397334</td>\n",
              "      <td>0.000000</td>\n",
              "      <td>0</td>\n",
              "      <td>0.0</td>\n",
              "      <td>0</td>\n",
              "      <td>0</td>\n",
              "    </tr>\n",
              "    <tr>\n",
              "      <th>893</th>\n",
              "      <td>2</td>\n",
              "      <td>85</td>\n",
              "      <td>0</td>\n",
              "      <td>26</td>\n",
              "      <td>7</td>\n",
              "      <td>4</td>\n",
              "      <td>1</td>\n",
              "      <td>1024</td>\n",
              "      <td>0</td>\n",
              "      <td>2</td>\n",
              "      <td>...</td>\n",
              "      <td>11</td>\n",
              "      <td>1</td>\n",
              "      <td>0</td>\n",
              "      <td>0</td>\n",
              "      <td>1868.906025</td>\n",
              "      <td>0.000000</td>\n",
              "      <td>0</td>\n",
              "      <td>0.0</td>\n",
              "      <td>0</td>\n",
              "      <td>0</td>\n",
              "    </tr>\n",
              "    <tr>\n",
              "      <th>894</th>\n",
              "      <td>14</td>\n",
              "      <td>52</td>\n",
              "      <td>4</td>\n",
              "      <td>27</td>\n",
              "      <td>7</td>\n",
              "      <td>4</td>\n",
              "      <td>5</td>\n",
              "      <td>0</td>\n",
              "      <td>512</td>\n",
              "      <td>2</td>\n",
              "      <td>...</td>\n",
              "      <td>15</td>\n",
              "      <td>0</td>\n",
              "      <td>0</td>\n",
              "      <td>0</td>\n",
              "      <td>509.606587</td>\n",
              "      <td>627.238270</td>\n",
              "      <td>18</td>\n",
              "      <td>0.0</td>\n",
              "      <td>0</td>\n",
              "      <td>0</td>\n",
              "    </tr>\n",
              "    <tr>\n",
              "      <th>895</th>\n",
              "      <td>8</td>\n",
              "      <td>98</td>\n",
              "      <td>0</td>\n",
              "      <td>24</td>\n",
              "      <td>0</td>\n",
              "      <td>8</td>\n",
              "      <td>1</td>\n",
              "      <td>512</td>\n",
              "      <td>0</td>\n",
              "      <td>0</td>\n",
              "      <td>...</td>\n",
              "      <td>4</td>\n",
              "      <td>0</td>\n",
              "      <td>0</td>\n",
              "      <td>0</td>\n",
              "      <td>751.405045</td>\n",
              "      <td>1024.702653</td>\n",
              "      <td>26</td>\n",
              "      <td>4.2</td>\n",
              "      <td>18</td>\n",
              "      <td>4</td>\n",
              "    </tr>\n",
              "  </tbody>\n",
              "</table>\n",
              "<p>896 rows × 23 columns</p>\n",
              "</div>\n",
              "      <button class=\"colab-df-convert\" onclick=\"convertToInteractive('df-82e73238-87b3-4232-a1b2-6b20c1e886c2')\"\n",
              "              title=\"Convert this dataframe to an interactive table.\"\n",
              "              style=\"display:none;\">\n",
              "        \n",
              "  <svg xmlns=\"http://www.w3.org/2000/svg\" height=\"24px\"viewBox=\"0 0 24 24\"\n",
              "       width=\"24px\">\n",
              "    <path d=\"M0 0h24v24H0V0z\" fill=\"none\"/>\n",
              "    <path d=\"M18.56 5.44l.94 2.06.94-2.06 2.06-.94-2.06-.94-.94-2.06-.94 2.06-2.06.94zm-11 1L8.5 8.5l.94-2.06 2.06-.94-2.06-.94L8.5 2.5l-.94 2.06-2.06.94zm10 10l.94 2.06.94-2.06 2.06-.94-2.06-.94-.94-2.06-.94 2.06-2.06.94z\"/><path d=\"M17.41 7.96l-1.37-1.37c-.4-.4-.92-.59-1.43-.59-.52 0-1.04.2-1.43.59L10.3 9.45l-7.72 7.72c-.78.78-.78 2.05 0 2.83L4 21.41c.39.39.9.59 1.41.59.51 0 1.02-.2 1.41-.59l7.78-7.78 2.81-2.81c.8-.78.8-2.07 0-2.86zM5.41 20L4 18.59l7.72-7.72 1.47 1.35L5.41 20z\"/>\n",
              "  </svg>\n",
              "      </button>\n",
              "      \n",
              "  <style>\n",
              "    .colab-df-container {\n",
              "      display:flex;\n",
              "      flex-wrap:wrap;\n",
              "      gap: 12px;\n",
              "    }\n",
              "\n",
              "    .colab-df-convert {\n",
              "      background-color: #E8F0FE;\n",
              "      border: none;\n",
              "      border-radius: 50%;\n",
              "      cursor: pointer;\n",
              "      display: none;\n",
              "      fill: #1967D2;\n",
              "      height: 32px;\n",
              "      padding: 0 0 0 0;\n",
              "      width: 32px;\n",
              "    }\n",
              "\n",
              "    .colab-df-convert:hover {\n",
              "      background-color: #E2EBFA;\n",
              "      box-shadow: 0px 1px 2px rgba(60, 64, 67, 0.3), 0px 1px 3px 1px rgba(60, 64, 67, 0.15);\n",
              "      fill: #174EA6;\n",
              "    }\n",
              "\n",
              "    [theme=dark] .colab-df-convert {\n",
              "      background-color: #3B4455;\n",
              "      fill: #D2E3FC;\n",
              "    }\n",
              "\n",
              "    [theme=dark] .colab-df-convert:hover {\n",
              "      background-color: #434B5C;\n",
              "      box-shadow: 0px 1px 3px 1px rgba(0, 0, 0, 0.15);\n",
              "      filter: drop-shadow(0px 1px 2px rgba(0, 0, 0, 0.3));\n",
              "      fill: #FFFFFF;\n",
              "    }\n",
              "  </style>\n",
              "\n",
              "      <script>\n",
              "        const buttonEl =\n",
              "          document.querySelector('#df-82e73238-87b3-4232-a1b2-6b20c1e886c2 button.colab-df-convert');\n",
              "        buttonEl.style.display =\n",
              "          google.colab.kernel.accessAllowed ? 'block' : 'none';\n",
              "\n",
              "        async function convertToInteractive(key) {\n",
              "          const element = document.querySelector('#df-82e73238-87b3-4232-a1b2-6b20c1e886c2');\n",
              "          const dataTable =\n",
              "            await google.colab.kernel.invokeFunction('convertToInteractive',\n",
              "                                                     [key], {});\n",
              "          if (!dataTable) return;\n",
              "\n",
              "          const docLinkHtml = 'Like what you see? Visit the ' +\n",
              "            '<a target=\"_blank\" href=https://colab.research.google.com/notebooks/data_table.ipynb>data table notebook</a>'\n",
              "            + ' to learn more about interactive tables.';\n",
              "          element.innerHTML = '';\n",
              "          dataTable['output_type'] = 'display_data';\n",
              "          await google.colab.output.renderOutput(dataTable, element);\n",
              "          const docLink = document.createElement('div');\n",
              "          docLink.innerHTML = docLinkHtml;\n",
              "          element.appendChild(docLink);\n",
              "        }\n",
              "      </script>\n",
              "    </div>\n",
              "  </div>\n",
              "  "
            ]
          },
          "metadata": {},
          "execution_count": 22
        }
      ]
    },
    {
      "cell_type": "code",
      "source": [
        "df.info()"
      ],
      "metadata": {
        "colab": {
          "base_uri": "https://localhost:8080/"
        },
        "id": "5CgTnqR03gev",
        "outputId": "a3503262-919b-4bbd-e73f-ac3295ca00da"
      },
      "execution_count": 23,
      "outputs": [
        {
          "output_type": "stream",
          "name": "stdout",
          "text": [
            "<class 'pandas.core.frame.DataFrame'>\n",
            "RangeIndex: 896 entries, 0 to 895\n",
            "Data columns (total 23 columns):\n",
            " #   Column           Non-Null Count  Dtype  \n",
            "---  ------           --------------  -----  \n",
            " 0   brand            896 non-null    int64  \n",
            " 1   model            896 non-null    int64  \n",
            " 2   processor_brand  896 non-null    int64  \n",
            " 3   processor_name   896 non-null    int64  \n",
            " 4   processor_gnrtn  896 non-null    int64  \n",
            " 5   ram_gb           896 non-null    int64  \n",
            " 6   ram_type         896 non-null    int64  \n",
            " 7   ssd              896 non-null    int64  \n",
            " 8   hdd              896 non-null    int64  \n",
            " 9   os               896 non-null    int64  \n",
            " 10  os_bit           896 non-null    int64  \n",
            " 11  graphic_card_gb  896 non-null    int64  \n",
            " 12  weight           896 non-null    int64  \n",
            " 13  display_size     896 non-null    int64  \n",
            " 14  warranty         896 non-null    int64  \n",
            " 15  Touchscreen      896 non-null    int64  \n",
            " 16  msoffice         896 non-null    int64  \n",
            " 17  latest_price     896 non-null    float64\n",
            " 18  old_price        896 non-null    float64\n",
            " 19  discount         896 non-null    int64  \n",
            " 20  star_rating      896 non-null    float64\n",
            " 21  ratings          896 non-null    int64  \n",
            " 22  reviews          896 non-null    int64  \n",
            "dtypes: float64(3), int64(20)\n",
            "memory usage: 161.1 KB\n"
          ]
        }
      ]
    },
    {
      "cell_type": "code",
      "source": [
        "plt.figure(figsize = (10,10))\n",
        "sns.heatmap(df.corr(), linewidth=1)"
      ],
      "metadata": {
        "colab": {
          "base_uri": "https://localhost:8080/",
          "height": 686
        },
        "id": "LVVGof4I31Hz",
        "outputId": "dc276e1c-e69f-4ebb-e15c-d841ea4f0ca2"
      },
      "execution_count": 24,
      "outputs": [
        {
          "output_type": "execute_result",
          "data": {
            "text/plain": [
              "<matplotlib.axes._subplots.AxesSubplot at 0x7f919e342210>"
            ]
          },
          "metadata": {},
          "execution_count": 24
        },
        {
          "output_type": "display_data",
          "data": {
            "text/plain": [
              "<Figure size 720x720 with 2 Axes>"
            ],
            "image/png": "[encoded data removed]"
          },
          "metadata": {
            "needs_background": "light"
          }
        }
      ]
    },
    {
      "cell_type": "code",
      "source": [
        "plt.figure(figsize = (10,10))\n",
        "sns.heatmap(df.corr()[['latest_price']].sort_values(by=['latest_price'],ascending=False), vmin=-1, annot=True);"
      ],
      "metadata": {
        "colab": {
          "base_uri": "https://localhost:8080/",
          "height": 596
        },
        "id": "unyyrn3F4A0r",
        "outputId": "e3f63518-c01a-4e6d-9033-5c51d78097d1"
      },
      "execution_count": 25,
      "outputs": [
        {
          "output_type": "display_data",
          "data": {
            "text/plain": [
              "<Figure size 720x720 with 2 Axes>"
            ],
            "image/png": "[encoded data removed]"
          },
          "metadata": {
            "needs_background": "light"
          }
        }
      ]
    },
    {
      "cell_type": "code",
      "source": [
        "fig, axes = plt.subplots(3, 4, figsize=(25, 15))\n",
        "\n",
        "sns.regplot(x=\"ssd\", y=\"latest_price\", data=df, ax=axes[0, 0])\n",
        "sns.regplot(x=\"graphic_card_gb\", y=\"latest_price\", data=df, ax=axes[0, 1])\n",
        "sns.regplot(x=\"ram_gb\", y=\"latest_price\", data=df, ax=axes[0, 2])\n",
        "sns.regplot(x=\"ram_type\", y=\"latest_price\", data=df, ax=axes[0, 3])\n",
        "sns.regplot(x=\"Touchscreen\", y=\"latest_price\", data=df, ax=axes[1, 0])\n",
        "sns.regplot(x=\"model\", y=\"latest_price\", data=df, ax=axes[1, 1])\n",
        "sns.regplot(x=\"processor_name\", y=\"latest_price\", data=df, ax=axes[1, 2])\n",
        "sns.regplot(x=\"processor_brand\", y=\"latest_price\", data=df, ax=axes[1, 3])\n",
        "sns.regplot(x=\"warranty\", y=\"latest_price\", data=df, ax=axes[2, 0])\n",
        "sns.regplot(x=\"display_size\", y=\"latest_price\", data=df, ax=axes[2, 1])\n",
        "fig.delaxes(axes[2][2])\n",
        "fig.delaxes(axes[2][3])"
      ],
      "metadata": {
        "colab": {
          "base_uri": "https://localhost:8080/",
          "height": 900
        },
        "id": "mPP7No49H24h",
        "outputId": "e13640c1-3c75-4d6e-947f-d51c7ecdc9a9"
      },
      "execution_count": 26,
      "outputs": [
        {
          "output_type": "display_data",
          "data": {
            "text/plain": [
              "<Figure size 1800x1080 with 10 Axes>"
            ],
            "image/png": "[encoded data removed]"
          },
          "metadata": {
            "needs_background": "light"
          }
        }
      ]
    },
    {
      "cell_type": "code",
      "source": [
        "sns.displot(df['latest_price'], kde=True);\n",
        "print(\"Skewness: %f\" % df['latest_price'].skew())"
      ],
      "metadata": {
        "colab": {
          "base_uri": "https://localhost:8080/",
          "height": 387
        },
        "id": "3P6gwDz980AQ",
        "outputId": "64756cdf-e8cd-4815-9503-71b70e91b590"
      },
      "execution_count": 27,
      "outputs": [
        {
          "output_type": "stream",
          "name": "stdout",
          "text": [
            "Skewness: 2.380830\n"
          ]
        },
        {
          "output_type": "display_data",
          "data": {
            "text/plain": [
              "<Figure size 360x360 with 1 Axes>"
            ],
            "image/png": "[encoded data removed]"
          },
          "metadata": {
            "needs_background": "light"
          }
        }
      ]
    },
    {
      "cell_type": "code",
      "source": [
        "df[\"latest_price\"] = np.log1p(df[\"latest_price\"])\n",
        " \n",
        "sns.displot(df['latest_price'], kde=True)\n",
        "print(\"Skewness: %f\" % df['latest_price'].skew())"
      ],
      "metadata": {
        "colab": {
          "base_uri": "https://localhost:8080/",
          "height": 387
        },
        "id": "QqR-gQmm8-DY",
        "outputId": "d48590be-fc0c-4d17-f2c0-6e31b0fd7fd7"
      },
      "execution_count": 28,
      "outputs": [
        {
          "output_type": "stream",
          "name": "stdout",
          "text": [
            "Skewness: 0.355784\n"
          ]
        },
        {
          "output_type": "display_data",
          "data": {
            "text/plain": [
              "<Figure size 360x360 with 1 Axes>"
            ],
            "image/png": "[encoded data removed]"
          },
          "metadata": {
            "needs_background": "light"
          }
        }
      ]
    },
    {
      "cell_type": "markdown",
      "source": [
        "### **Linear Regression**"
      ],
      "metadata": {
        "id": "Ax40agEJ5kgX"
      }
    },
    {
      "cell_type": "code",
      "source": [
        "import sklearn\n",
        "from sklearn.model_selection import train_test_split\n",
        "from sklearn.metrics import mean_squared_error, r2_score, mean_absolute_error\n",
        "from sklearn.preprocessing import StandardScaler\n",
        "from sklearn.pipeline import Pipeline\n",
        "from sklearn.linear_model import LinearRegression\n",
        "from sklearn.ensemble import RandomForestRegressor\n",
        "from sklearn.tree import DecisionTreeRegressor\n",
        "from sklearn.svm import SVR"
      ],
      "metadata": {
        "id": "jFmHPk605fH0"
      },
      "execution_count": 38,
      "outputs": []
    },
    {
      "cell_type": "code",
      "source": [
        "features = ['ssd', 'graphic_card_gb', 'ram_gb', 'ram_type', 'Touchscreen', 'model', 'processor_name', 'processor_brand', 'warranty', 'display_size']"
      ],
      "metadata": {
        "id": "D3pQX0vR5vf2"
      },
      "execution_count": 39,
      "outputs": []
    },
    {
      "cell_type": "code",
      "source": [
        "X = df[features]\n",
        "y = df['latest_price']"
      ],
      "metadata": {
        "id": "hfhyqvKE770A"
      },
      "execution_count": 40,
      "outputs": []
    },
    {
      "cell_type": "code",
      "source": [
        "X_train, X_test, y_train, y_test = train_test_split(X, y, test_size = .3, random_state=42) "
      ],
      "metadata": {
        "id": "K27x7tw07_1i"
      },
      "execution_count": 41,
      "outputs": []
    },
    {
      "cell_type": "code",
      "source": [
        "lr_pipe = Pipeline([('scl',StandardScaler()), ('clf',LinearRegression())])\n",
        "\n",
        "lr_pipe.fit(X_train,y_train)\n",
        "\n",
        "y_pred = lr_pipe.predict(X_test)\n",
        "\n",
        "print('Coefficient of Determination:', lr_pipe.score(X_test, y_test))\n",
        "print('Mean Absolute Error:', mean_absolute_error(y_test, y_pred))\n",
        "print('Mean Squared Error:', mean_squared_error(y_test, y_pred))\n",
        "print('Root Mean Squared Error:', np.sqrt(mean_squared_error(y_test, y_pred)))"
      ],
      "metadata": {
        "colab": {
          "base_uri": "https://localhost:8080/"
        },
        "id": "YiWGyL_elggU",
        "outputId": "f1b98dcd-c9fd-410a-fb36-c87b95a9439a"
      },
      "execution_count": 42,
      "outputs": [
        {
          "output_type": "stream",
          "name": "stdout",
          "text": [
            "Coefficient of Determination: 0.6649887065774516\n",
            "Mean Absolute Error: 0.21915249210707938\n",
            "Mean Squared Error: 0.08439237509391843\n",
            "Root Mean Squared Error: 0.2905036576257146\n"
          ]
        }
      ]
    },
    {
      "cell_type": "code",
      "source": [
        "rf_pipe = Pipeline([('scl', StandardScaler()),('clf',RandomForestRegressor(n_estimators=50, min_samples_split=5 ))])\n",
        "\n",
        "rf_pipe.fit(X_train, y_train)\n",
        "\n",
        "y_pred = rf_pipe.predict(X_test)\n",
        "\n",
        "print('Coefficient of Determination:', rf_pipe.score(X_test, y_test))\n",
        "print('Mean Absolute Error:', mean_absolute_error(y_test, y_pred))\n",
        "print('Mean Squared Error:', mean_squared_error(y_test, y_pred))\n",
        "print('Root Mean Squared Error:', np.sqrt(mean_squared_error(y_test, y_pred)))"
      ],
      "metadata": {
        "colab": {
          "base_uri": "https://localhost:8080/"
        },
        "id": "QoMuu2v4sQdM",
        "outputId": "6577687f-9c8d-4af8-d97f-e612c24a3a2d"
      },
      "execution_count": 43,
      "outputs": [
        {
          "output_type": "stream",
          "name": "stdout",
          "text": [
            "Coefficient of Determination: 0.8174691568288519\n",
            "Mean Absolute Error: 0.1461226699103726\n",
            "Mean Squared Error: 0.04598117044275119\n",
            "Root Mean Squared Error: 0.2144322047705316\n"
          ]
        }
      ]
    },
    {
      "cell_type": "code",
      "source": [
        "dt_pipe = Pipeline([('scl', StandardScaler()),('clf',DecisionTreeRegressor(random_state = 45))])\n",
        "\n",
        "dt_pipe.fit(X_train, y_train)\n",
        "\n",
        "y_pred = dt_pipe.predict(X_test)\n",
        "\n",
        "print('Coefficient of Determination:', dt_pipe.score(X_test, y_test))\n",
        "print('Mean Absolute Error:', mean_absolute_error(y_test, y_pred))\n",
        "print('Mean Squared Error:', mean_squared_error(y_test, y_pred))\n",
        "print('Root Mean Squared Error:', np.sqrt(mean_squared_error(y_test, y_pred)))"
      ],
      "metadata": {
        "colab": {
          "base_uri": "https://localhost:8080/"
        },
        "id": "WYdaxKJWLC3A",
        "outputId": "65c7b016-2aa1-4760-ce98-cf88909e6f67"
      },
      "execution_count": 44,
      "outputs": [
        {
          "output_type": "stream",
          "name": "stdout",
          "text": [
            "Coefficient of Determination: 0.7505834938945537\n",
            "Mean Absolute Error: 0.1659703617291423\n",
            "Mean Squared Error: 0.06283027393741199\n",
            "Root Mean Squared Error: 0.2506596775259475\n"
          ]
        }
      ]
    },
    {
      "cell_type": "code",
      "source": [
        "svr_pipe = Pipeline([('scl', StandardScaler()),('clf',SVR(kernel = 'rbf'))])\n",
        "\n",
        "svr_pipe.fit(X_train, y_train)\n",
        "\n",
        "y_pred = svr_pipe.predict(X_test)\n",
        "\n",
        "print('Coefficient of Determination:', svr_pipe.score(X_test, y_test))\n",
        "print('Mean Absolute Error:', mean_absolute_error(y_test, y_pred))\n",
        "print('Mean Squared Error:', mean_squared_error(y_test, y_pred))\n",
        "print('Root Mean Squared Error:', np.sqrt(mean_squared_error(y_test, y_pred)))"
      ],
      "metadata": {
        "colab": {
          "base_uri": "https://localhost:8080/"
        },
        "id": "p3pLrvexLcWD",
        "outputId": "eacfdb04-b78c-4cd1-8e8d-00c82061521d"
      },
      "execution_count": 45,
      "outputs": [
        {
          "output_type": "stream",
          "name": "stdout",
          "text": [
            "Coefficient of Determination: 0.7847752641034755\n",
            "Mean Absolute Error: 0.16718557372799556\n",
            "Mean Squared Error: 0.05421705774664643\n",
            "Root Mean Squared Error: 0.23284556630231643\n"
          ]
        }
      ]
    }
  ]
}